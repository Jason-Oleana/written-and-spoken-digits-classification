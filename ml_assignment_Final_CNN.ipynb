{
 "cells": [
  {
   "cell_type": "markdown",
   "metadata": {
    "colab_type": "text",
    "id": "R0XDMXa--a5D"
   },
   "source": [
    "# Machine Learning Assignment"
   ]
  },
  {
   "cell_type": "markdown",
   "metadata": {
    "colab_type": "text",
    "id": "Qh1di7G9-a5E"
   },
   "source": [
    "## Imports"
   ]
  },
  {
   "cell_type": "code",
   "execution_count": 22,
   "metadata": {
    "colab": {},
    "colab_type": "code",
    "id": "J7vorEJ5-a5F"
   },
   "outputs": [],
   "source": [
    "import numpy\n",
    "import pandas as pd\n",
    "from sklearn.model_selection import train_test_split  \n",
    "from scipy.stats import kurtosis"
   ]
  },
  {
   "cell_type": "markdown",
   "metadata": {
    "colab_type": "text",
    "id": "FyN9Pqcx-a5H"
   },
   "source": [
    "## Loading Data"
   ]
  },
  {
   "cell_type": "code",
   "execution_count": 23,
   "metadata": {
    "colab": {
     "base_uri": "https://localhost:8080/",
     "height": 67
    },
    "colab_type": "code",
    "id": "6Q_j86CU-a5I",
    "outputId": "f68dae0a-4c4e-4808-ac63-89fdfac5749e"
   },
   "outputs": [
    {
     "name": "stdout",
     "output_type": "stream",
     "text": [
      "written train shape: (45000, 784)\n",
      "spoken train shape: (45000,)\n",
      "match train shape: (45000,)\n"
     ]
    }
   ],
   "source": [
    "written_train = numpy.load(\"C:/Users/voice/written-spoken-cnn/written_train(1).npy\", allow_pickle=True)\n",
    "spoken_train = numpy.load(\"C:/Users/voice/written-spoken-cnn/spoken_train(1).npy\", allow_pickle=True)\n",
    "match_train = numpy.load(\"C:/Users/voice/written-spoken-cnn/match_train(1).npy\", allow_pickle=True)\n",
    "\n",
    "print(\"written train shape:\", written_train.shape)\n",
    "print(\"spoken train shape:\", spoken_train.shape)\n",
    "print(\"match train shape:\", match_train.shape)"
   ]
  },
  {
   "cell_type": "code",
   "execution_count": 24,
   "metadata": {
    "colab": {
     "base_uri": "https://localhost:8080/",
     "height": 121
    },
    "colab_type": "code",
    "id": "7A3160S1_Ctm",
    "outputId": "10326c84-0045-4f21-c0aa-3f0a4269917a"
   },
   "outputs": [],
   "source": [
    "#from google.colab import drive\n",
    "#drive.mount('/content/drive')"
   ]
  },
  {
   "cell_type": "code",
   "execution_count": 25,
   "metadata": {
    "colab": {
     "base_uri": "https://localhost:8080/",
     "height": 34
    },
    "colab_type": "code",
    "id": "eJpo6rCo-a5K",
    "outputId": "88371987-1bc5-471e-8277-f9ac6804388a"
   },
   "outputs": [
    {
     "name": "stdout",
     "output_type": "stream",
     "text": [
      "93\n"
     ]
    }
   ],
   "source": [
    "largest_shape = 0\n",
    "for i in spoken_train:\n",
    "    shape = i.shape[0]\n",
    "    if shape > largest_shape:\n",
    "        largest_shape = shape\n",
    "\n",
    "print(largest_shape)"
   ]
  },
  {
   "cell_type": "code",
   "execution_count": 26,
   "metadata": {
    "colab": {
     "base_uri": "https://localhost:8080/",
     "height": 34
    },
    "colab_type": "code",
    "id": "Lk13xKrO-a5M",
    "outputId": "2c2d36d5-0263-421a-d0ac-84a28fe7b27c"
   },
   "outputs": [
    {
     "data": {
      "text/plain": [
       "(45000, 93, 13)"
      ]
     },
     "execution_count": 26,
     "metadata": {},
     "output_type": "execute_result"
    }
   ],
   "source": [
    "new_spoken_train = []\n",
    "for example in spoken_train:\n",
    "    difference = largest_shape-example.shape[0]\n",
    "    zero_pad = numpy.pad(example,((0,difference),(0,0)), mode='constant')\n",
    "    new_spoken_train.append(zero_pad)\n",
    "\n",
    "new_spoken_train = numpy.array(new_spoken_train)\n",
    "new_spoken_train.shape"
   ]
  },
  {
   "cell_type": "code",
   "execution_count": 27,
   "metadata": {
    "colab": {
     "base_uri": "https://localhost:8080/",
     "height": 34
    },
    "colab_type": "code",
    "id": "zMsLjNrW-a5O",
    "outputId": "b4fea139-3095-4bbb-905e-7ef7867f7fdc"
   },
   "outputs": [
    {
     "name": "stdout",
     "output_type": "stream",
     "text": [
      "1209\n"
     ]
    }
   ],
   "source": [
    "print(93*13)"
   ]
  },
  {
   "cell_type": "code",
   "execution_count": 28,
   "metadata": {
    "colab": {},
    "colab_type": "code",
    "id": "EDETI6iI-a5Q"
   },
   "outputs": [],
   "source": [
    "spoken_train = new_spoken_train\n",
    "spoken_train = numpy.reshape(spoken_train,(45000,1209))"
   ]
  },
  {
   "cell_type": "code",
   "execution_count": 29,
   "metadata": {
    "colab": {},
    "colab_type": "code",
    "id": "kca8m5jG-a5R"
   },
   "outputs": [],
   "source": [
    "from sklearn.preprocessing import StandardScaler\n",
    "\n",
    "scaler = StandardScaler()\n",
    "scaler.fit(spoken_train)\n",
    "spoken_train = scaler.transform(spoken_train)"
   ]
  },
  {
   "cell_type": "markdown",
   "metadata": {
    "colab_type": "text",
    "id": "ekdS357Q-a5T"
   },
   "source": [
    "# Normalize pixel values to be between 0 and 1\n",
    "- divide written_train by 255"
   ]
  },
  {
   "cell_type": "code",
   "execution_count": 30,
   "metadata": {
    "colab": {},
    "colab_type": "code",
    "id": "YnvL7y9f-a5U"
   },
   "outputs": [],
   "source": [
    "X_written = written_train/255\n",
    "X_spoken = spoken_train\n",
    "y = match_train"
   ]
  },
  {
   "cell_type": "markdown",
   "metadata": {
    "colab_type": "text",
    "id": "M2CRbSxh-a5V"
   },
   "source": [
    "## Label distribution"
   ]
  },
  {
   "cell_type": "code",
   "execution_count": 31,
   "metadata": {
    "colab": {
     "base_uri": "https://localhost:8080/",
     "height": 67
    },
    "colab_type": "code",
    "id": "d1A9zzvz-a5W",
    "outputId": "a8133e99-5b6b-433b-cb25-0a70a3956d8d",
    "scrolled": true
   },
   "outputs": [
    {
     "name": "stdout",
     "output_type": "stream",
     "text": [
      "number of total rows: 45000\n",
      "number of positives: 4539 (10.09%)\n",
      "number of negatives: 40461 (89.91%)\n"
     ]
    }
   ],
   "source": [
    "total = len(y)\n",
    "positives = sum(y)\n",
    "negatives = total - positives\n",
    "\n",
    "print(\"number of total rows: {}\".format(total))\n",
    "print(\"number of positives: {} ({}%)\".format(positives, round((positives/total)*100,2)))\n",
    "print(\"number of negatives: {} ({}%)\".format(negatives, round((negatives/total)*100,2)))"
   ]
  },
  {
   "cell_type": "code",
   "execution_count": 32,
   "metadata": {
    "colab": {},
    "colab_type": "code",
    "id": "ymFd_DD7-a5Y"
   },
   "outputs": [],
   "source": [
    "X_written = numpy.reshape(X_written,(45000,784))\n",
    "X_spoken = numpy.reshape(X_spoken,(45000,1209))"
   ]
  },
  {
   "cell_type": "code",
   "execution_count": 33,
   "metadata": {
    "colab": {
     "base_uri": "https://localhost:8080/",
     "height": 121
    },
    "colab_type": "code",
    "id": "GeAKUTdg-a5l",
    "outputId": "a674510d-cb2d-438c-d545-27b20dd26528"
   },
   "outputs": [
    {
     "name": "stderr",
     "output_type": "stream",
     "text": [
      "C:\\Users\\voice\\Anaconda3\\lib\\site-packages\\sklearn\\utils\\deprecation.py:87: FutureWarning: Function safe_indexing is deprecated; safe_indexing is deprecated in version 0.22 and will be removed in version 0.24.\n",
      "  warnings.warn(msg, category=FutureWarning)\n",
      "C:\\Users\\voice\\Anaconda3\\lib\\site-packages\\sklearn\\utils\\deprecation.py:87: FutureWarning: Function safe_indexing is deprecated; safe_indexing is deprecated in version 0.22 and will be removed in version 0.24.\n",
      "  warnings.warn(msg, category=FutureWarning)\n"
     ]
    },
    {
     "name": "stdout",
     "output_type": "stream",
     "text": [
      "Resampled dataset shape Counter({False: 40461, True: 40461})\n"
     ]
    }
   ],
   "source": [
    "from collections import Counter\n",
    "from imblearn.over_sampling import RandomOverSampler\n",
    "oversampler = RandomOverSampler(random_state=42)\n",
    "X_written, y1 = oversampler.fit_resample(X_written, y)\n",
    "X_spoken, y2 = oversampler.fit_resample(X_spoken, y)\n",
    "print('Resampled dataset shape %s' % Counter(y2))"
   ]
  },
  {
   "cell_type": "code",
   "execution_count": 34,
   "metadata": {
    "colab": {
     "base_uri": "https://localhost:8080/",
     "height": 185
    },
    "colab_type": "code",
    "id": "rqFrWlgrALOf",
    "outputId": "bbe43e1f-97a2-40c1-bcb6-51d2865685e4"
   },
   "outputs": [
    {
     "name": "stdout",
     "output_type": "stream",
     "text": [
      "[False False False ...  True  True  True]\n",
      "[0 0 0 ... 1 1 1]\n",
      "[[1. 0.]\n",
      " [1. 0.]\n",
      " [1. 0.]\n",
      " ...\n",
      " [0. 1.]\n",
      " [0. 1.]\n",
      " [0. 1.]]\n",
      "[False]\n"
     ]
    }
   ],
   "source": [
    "\n",
    "from numpy import array\n",
    "from numpy import argmax\n",
    "from sklearn.preprocessing import LabelEncoder\n",
    "from sklearn.preprocessing import OneHotEncoder\n",
    "# define example\n",
    "values = array(y2)\n",
    "print(values)\n",
    "# integer encode\n",
    "label_encoder = LabelEncoder()\n",
    "integer_encoded = label_encoder.fit_transform(values)\n",
    "print(integer_encoded)\n",
    "# binary encode\n",
    "onehot_encoder = OneHotEncoder(sparse=False)\n",
    "integer_encoded = integer_encoded.reshape(len(integer_encoded), 1)\n",
    "onehot_encoded = onehot_encoder.fit_transform(integer_encoded)\n",
    "print(onehot_encoded)\n",
    "# invert first example\n",
    "inverted = label_encoder.inverse_transform([argmax(onehot_encoded[0, :])])\n",
    "print(inverted)"
   ]
  },
  {
   "cell_type": "code",
   "execution_count": 35,
   "metadata": {
    "colab": {
     "base_uri": "https://localhost:8080/",
     "height": 67
    },
    "colab_type": "code",
    "id": "zR6hz7ODAI6B",
    "outputId": "c00a3add-3980-404e-e8cc-ce071be3f6ae"
   },
   "outputs": [
    {
     "name": "stdout",
     "output_type": "stream",
     "text": [
      "(80922, 784)\n",
      "(80922, 1209)\n",
      "(80922,)\n"
     ]
    }
   ],
   "source": [
    "print(X_written.shape)\n",
    "print(X_spoken.shape)\n",
    "print(y2.shape)"
   ]
  },
  {
   "cell_type": "markdown",
   "metadata": {
    "colab_type": "text",
    "id": "EReMjbpt-a5n"
   },
   "source": [
    "# step 1: split data in training and validation:\n",
    "- written train split: 80% train, 20% validation\n",
    "<br>\n",
    "- spoken train split: 80% train, 20% validation"
   ]
  },
  {
   "cell_type": "markdown",
   "metadata": {
    "colab_type": "text",
    "id": "LY9TudTB-a5n"
   },
   "source": [
    "Since the data is imbalanced, we use stratify to make sure the distribution of labels is the same in our train and validation datasets"
   ]
  },
  {
   "cell_type": "code",
   "execution_count": 36,
   "metadata": {
    "colab": {},
    "colab_type": "code",
    "id": "P2ZqU6gM-a5o"
   },
   "outputs": [],
   "source": [
    "X_written_train, X_written_test, X_spoken_train, X_spoken_test, y_train, y_valid = train_test_split(X_written, X_spoken, y2, test_size=0.20, stratify = y2)"
   ]
  },
  {
   "cell_type": "code",
   "execution_count": 37,
   "metadata": {
    "colab": {
     "base_uri": "https://localhost:8080/",
     "height": 34
    },
    "colab_type": "code",
    "id": "LUCh1DC_9nQc",
    "outputId": "9c7d6606-ae3a-4f4d-bf05-b18e812d6130"
   },
   "outputs": [
    {
     "data": {
      "text/plain": [
       "(16185, 784)"
      ]
     },
     "execution_count": 37,
     "metadata": {},
     "output_type": "execute_result"
    }
   ],
   "source": [
    "X_written_test.shape"
   ]
  },
  {
   "cell_type": "code",
   "execution_count": 38,
   "metadata": {
    "colab": {},
    "colab_type": "code",
    "id": "RoC2lO2MAkfJ"
   },
   "outputs": [],
   "source": [
    "X_written_test = numpy.reshape(X_written_test,(X_written_test.shape[0],28,28))\n",
    "X_written_train = numpy.reshape(X_written_train,(X_written_train.shape[0],28,28))\n",
    "X_spoken_test = numpy.reshape(X_spoken_test,(X_spoken_test.shape[0],93,13))\n",
    "X_spoken_train = numpy.reshape(X_spoken_train,(X_spoken_train.shape[0],93,13))"
   ]
  },
  {
   "cell_type": "code",
   "execution_count": 39,
   "metadata": {
    "colab": {
     "base_uri": "https://localhost:8080/",
     "height": 655
    },
    "colab_type": "code",
    "id": "wXyLGF8wRSiK",
    "outputId": "46e7aa15-e089-4e33-d714-bf2bbcc4339f"
   },
   "outputs": [
    {
     "name": "stdout",
     "output_type": "stream",
     "text": [
      "Model: \"model_2\"\n",
      "__________________________________________________________________________________________________\n",
      "Layer (type)                    Output Shape         Param #     Connected to                     \n",
      "==================================================================================================\n",
      "input_3 (InputLayer)            (None, 28, 28)       0                                            \n",
      "__________________________________________________________________________________________________\n",
      "input_4 (InputLayer)            (None, 93, 13)       0                                            \n",
      "__________________________________________________________________________________________________\n",
      "conv1d_5 (Conv1D)               (None, 27, 32)       1824        input_3[0][0]                    \n",
      "__________________________________________________________________________________________________\n",
      "conv1d_7 (Conv1D)               (None, 92, 32)       864         input_4[0][0]                    \n",
      "__________________________________________________________________________________________________\n",
      "max_pooling1d_3 (MaxPooling1D)  (None, 13, 32)       0           conv1d_5[0][0]                   \n",
      "__________________________________________________________________________________________________\n",
      "max_pooling1d_4 (MaxPooling1D)  (None, 46, 32)       0           conv1d_7[0][0]                   \n",
      "__________________________________________________________________________________________________\n",
      "conv1d_6 (Conv1D)               (None, 12, 32)       2080        max_pooling1d_3[0][0]            \n",
      "__________________________________________________________________________________________________\n",
      "conv1d_8 (Conv1D)               (None, 45, 32)       2080        max_pooling1d_4[0][0]            \n",
      "__________________________________________________________________________________________________\n",
      "flatten_3 (Flatten)             (None, 384)          0           conv1d_6[0][0]                   \n",
      "__________________________________________________________________________________________________\n",
      "flatten_4 (Flatten)             (None, 1440)         0           conv1d_8[0][0]                   \n",
      "__________________________________________________________________________________________________\n",
      "concatenate_2 (Concatenate)     (None, 1824)         0           flatten_3[0][0]                  \n",
      "                                                                 flatten_4[0][0]                  \n",
      "__________________________________________________________________________________________________\n",
      "dense_4 (Dense)                 (None, 100)          182500      concatenate_2[0][0]              \n",
      "__________________________________________________________________________________________________\n",
      "dense_5 (Dense)                 (None, 100)          10100       dense_4[0][0]                    \n",
      "__________________________________________________________________________________________________\n",
      "dense_6 (Dense)                 (None, 1)            101         dense_5[0][0]                    \n",
      "==================================================================================================\n",
      "Total params: 199,549\n",
      "Trainable params: 199,549\n",
      "Non-trainable params: 0\n",
      "__________________________________________________________________________________________________\n",
      "None\n"
     ]
    }
   ],
   "source": [
    "from keras.models import Sequential\n",
    "from keras.layers import Dense, Conv1D, Flatten, MaxPooling1D, Dropout\n",
    "#create model\n",
    "import keras\n",
    "from keras.optimizers import Adam\n",
    "\n",
    "input1 = keras.layers.Input(shape=(28,28))\n",
    "x1 = keras.layers.Conv1D(32, 2, activation='relu')(input1)\n",
    "x1 = keras.layers.MaxPooling1D(2)(x1)\n",
    "x2 = keras.layers.Conv1D(32, 2, activation='relu')(x1)\n",
    "#x2 = keras.layers.MaxPooling1D(2)(x2)\n",
    "x3 = keras.layers.Flatten()(x2)\n",
    "input2 = keras.layers.Input(shape=(93,13))\n",
    "y1 = keras.layers.Conv1D(32, 2, activation='relu')(input2)\n",
    "y1 = keras.layers.MaxPooling1D(2)(y1)\n",
    "y2 = keras.layers.Conv1D(32, 2, activation='relu')(y1)\n",
    "#y2 = keras.layers.MaxPooling1D(2)(y2)\n",
    "y3 = keras.layers.Flatten()(y2)\n",
    "# Equivalent to subtracted = keras.layers.subtract([x1, x2])\n",
    "concatenate = keras.layers.Concatenate()([x3, y3])\n",
    "Dense_1 = Dense(100, activation='relu')(concatenate)\n",
    "Dense_2 = Dense(100, activation='relu')(Dense_1)\n",
    "out = keras.layers.Dense(1, activation = \"sigmoid\")(Dense_2)\n",
    "model = keras.models.Model(inputs=[input1, input2], outputs=out)\n",
    "model.compile(loss='binary_crossentropy',\n",
    "              optimizer=Adam(lr=0.001), metrics=['accuracy'])\n",
    "print(model.summary())"
   ]
  },
  {
   "cell_type": "code",
   "execution_count": 40,
   "metadata": {
    "colab": {},
    "colab_type": "code",
    "id": "atkojHJ5RU7z"
   },
   "outputs": [
    {
     "name": "stdout",
     "output_type": "stream",
     "text": [
      "Train on 58263 samples, validate on 6474 samples\n",
      "Epoch 1/100\n",
      "58263/58263 [==============================] - 10s 167us/step - loss: 0.3198 - acc: 0.8439 - val_loss: 0.1435 - val_acc: 0.9478\n",
      "Epoch 2/100\n",
      "58263/58263 [==============================] - 9s 158us/step - loss: 0.0847 - acc: 0.9710 - val_loss: 0.0653 - val_acc: 0.9744\n",
      "Epoch 3/100\n",
      "58263/58263 [==============================] - 9s 155us/step - loss: 0.0433 - acc: 0.9859 - val_loss: 0.0464 - val_acc: 0.9836\n",
      "Epoch 4/100\n",
      "58263/58263 [==============================] - 9s 155us/step - loss: 0.0301 - acc: 0.9910 - val_loss: 0.0526 - val_acc: 0.9832\n",
      "Epoch 5/100\n",
      "58263/58263 [==============================] - 9s 154us/step - loss: 0.0237 - acc: 0.9927 - val_loss: 0.0568 - val_acc: 0.9850\n",
      "Epoch 6/100\n",
      "58263/58263 [==============================] - 9s 157us/step - loss: 0.0194 - acc: 0.9941 - val_loss: 0.0463 - val_acc: 0.9855\n",
      "Epoch 7/100\n",
      "58263/58263 [==============================] - 9s 159us/step - loss: 0.0161 - acc: 0.9947 - val_loss: 0.0546 - val_acc: 0.9873\n",
      "Epoch 8/100\n",
      "58263/58263 [==============================] - 9s 158us/step - loss: 0.0143 - acc: 0.9957 - val_loss: 0.0483 - val_acc: 0.9878\n",
      "Epoch 9/100\n",
      "58263/58263 [==============================] - 9s 158us/step - loss: 0.0141 - acc: 0.9957 - val_loss: 0.0453 - val_acc: 0.9872\n",
      "Epoch 10/100\n",
      "58263/58263 [==============================] - 9s 159us/step - loss: 0.0116 - acc: 0.9966 - val_loss: 0.0275 - val_acc: 0.9921\n",
      "Epoch 11/100\n",
      "58263/58263 [==============================] - 9s 159us/step - loss: 0.0114 - acc: 0.9968 - val_loss: 0.0276 - val_acc: 0.9912\n",
      "Epoch 12/100\n",
      "58263/58263 [==============================] - 9s 160us/step - loss: 0.0095 - acc: 0.9974 - val_loss: 0.0298 - val_acc: 0.9915\n",
      "Epoch 13/100\n",
      "58263/58263 [==============================] - 10s 165us/step - loss: 0.0105 - acc: 0.9970 - val_loss: 0.0265 - val_acc: 0.9924\n",
      "Epoch 14/100\n",
      "58263/58263 [==============================] - 10s 172us/step - loss: 0.0115 - acc: 0.9969 - val_loss: 0.0330 - val_acc: 0.9923\n",
      "Epoch 15/100\n",
      "58263/58263 [==============================] - 10s 179us/step - loss: 0.0085 - acc: 0.9977 - val_loss: 0.0297 - val_acc: 0.9917\n",
      "Epoch 16/100\n",
      "58263/58263 [==============================] - 10s 180us/step - loss: 0.0095 - acc: 0.9974 - val_loss: 0.0257 - val_acc: 0.9940\n",
      "Epoch 17/100\n",
      "58263/58263 [==============================] - 10s 173us/step - loss: 0.0078 - acc: 0.9979 - val_loss: 0.0388 - val_acc: 0.9920\n",
      "Epoch 18/100\n",
      "58263/58263 [==============================] - 10s 166us/step - loss: 0.0100 - acc: 0.9975 - val_loss: 0.0347 - val_acc: 0.9924\n",
      "Epoch 19/100\n",
      "58263/58263 [==============================] - 9s 161us/step - loss: 0.0066 - acc: 0.9987 - val_loss: 0.0517 - val_acc: 0.9884\n",
      "Epoch 20/100\n",
      "58263/58263 [==============================] - 9s 158us/step - loss: 0.0064 - acc: 0.9985 - val_loss: 0.0447 - val_acc: 0.9921\n",
      "Epoch 21/100\n",
      "58263/58263 [==============================] - 9s 159us/step - loss: 0.0069 - acc: 0.9981 - val_loss: 0.0423 - val_acc: 0.9914\n",
      "Epoch 22/100\n",
      "58263/58263 [==============================] - 9s 157us/step - loss: 0.0085 - acc: 0.9977 - val_loss: 0.0521 - val_acc: 0.9904\n",
      "Epoch 23/100\n",
      "58263/58263 [==============================] - 9s 158us/step - loss: 0.0051 - acc: 0.9986 - val_loss: 0.0506 - val_acc: 0.9918\n",
      "Epoch 24/100\n",
      "58263/58263 [==============================] - 9s 162us/step - loss: 0.0078 - acc: 0.9980 - val_loss: 0.0363 - val_acc: 0.9929\n",
      "Epoch 25/100\n",
      "58263/58263 [==============================] - 10s 168us/step - loss: 0.0034 - acc: 0.9993 - val_loss: 0.0315 - val_acc: 0.9944\n",
      "Epoch 26/100\n",
      "58263/58263 [==============================] - 10s 175us/step - loss: 0.0068 - acc: 0.9983 - val_loss: 0.0478 - val_acc: 0.9917\n",
      "Epoch 27/100\n",
      "58263/58263 [==============================] - 10s 180us/step - loss: 0.0061 - acc: 0.9985 - val_loss: 0.0357 - val_acc: 0.9941\n",
      "Epoch 28/100\n",
      "58263/58263 [==============================] - 11s 181us/step - loss: 0.0075 - acc: 0.9980 - val_loss: 0.0469 - val_acc: 0.9907\n",
      "Epoch 29/100\n",
      "58263/58263 [==============================] - 10s 173us/step - loss: 0.0034 - acc: 0.9994 - val_loss: 0.0797 - val_acc: 0.9859\n",
      "Epoch 30/100\n",
      "58263/58263 [==============================] - 10s 165us/step - loss: 0.0076 - acc: 0.9980 - val_loss: 0.0355 - val_acc: 0.9932\n",
      "Epoch 31/100\n",
      "58263/58263 [==============================] - 9s 160us/step - loss: 0.0030 - acc: 0.9994 - val_loss: 0.1313 - val_acc: 0.9771\n",
      "Epoch 32/100\n",
      "58263/58263 [==============================] - 9s 159us/step - loss: 0.0064 - acc: 0.9985 - val_loss: 0.0286 - val_acc: 0.9944\n",
      "Epoch 33/100\n",
      "58263/58263 [==============================] - 9s 157us/step - loss: 0.0044 - acc: 0.9990 - val_loss: 0.0268 - val_acc: 0.9952\n",
      "Epoch 34/100\n",
      "58263/58263 [==============================] - 9s 158us/step - loss: 0.0075 - acc: 0.9987 - val_loss: 0.0380 - val_acc: 0.9940\n",
      "Epoch 35/100\n",
      "58263/58263 [==============================] - 9s 161us/step - loss: 0.0028 - acc: 0.9997 - val_loss: 0.0248 - val_acc: 0.9966\n",
      "Epoch 36/100\n",
      "58263/58263 [==============================] - 10s 169us/step - loss: 0.0022 - acc: 0.9999 - val_loss: 0.0255 - val_acc: 0.9963\n",
      "Epoch 37/100\n",
      "58263/58263 [==============================] - 10s 174us/step - loss: 0.0022 - acc: 0.9999 - val_loss: 0.0274 - val_acc: 0.9961\n",
      "Epoch 38/100\n",
      "58263/58263 [==============================] - 10s 180us/step - loss: 0.0022 - acc: 0.9999 - val_loss: 0.0285 - val_acc: 0.9958\n",
      "Epoch 39/100\n",
      "58263/58263 [==============================] - 10s 180us/step - loss: 0.0022 - acc: 0.9999 - val_loss: 0.0292 - val_acc: 0.9958\n",
      "Epoch 40/100\n",
      "58263/58263 [==============================] - 10s 178us/step - loss: 0.0022 - acc: 0.9999 - val_loss: 0.0307 - val_acc: 0.9957\n",
      "Epoch 41/100\n",
      "58263/58263 [==============================] - 10s 169us/step - loss: 0.0022 - acc: 0.9999 - val_loss: 0.0312 - val_acc: 0.9963\n",
      "Epoch 42/100\n",
      "58263/58263 [==============================] - 9s 162us/step - loss: 0.0022 - acc: 0.9999 - val_loss: 0.0326 - val_acc: 0.9961\n",
      "Epoch 43/100\n",
      "58263/58263 [==============================] - 9s 157us/step - loss: 0.0022 - acc: 0.9999 - val_loss: 0.0331 - val_acc: 0.9963\n",
      "Epoch 44/100\n",
      "58263/58263 [==============================] - 9s 157us/step - loss: 0.0022 - acc: 0.9999 - val_loss: 0.0334 - val_acc: 0.9966\n",
      "Epoch 45/100\n",
      "58263/58263 [==============================] - 9s 158us/step - loss: 0.0022 - acc: 0.9999 - val_loss: 0.0337 - val_acc: 0.9966\n",
      "Epoch 46/100\n",
      "58263/58263 [==============================] - 10s 164us/step - loss: 0.0022 - acc: 0.9999 - val_loss: 0.0341 - val_acc: 0.9966\n",
      "Epoch 47/100\n",
      "58263/58263 [==============================] - 10s 166us/step - loss: 0.0022 - acc: 0.9999 - val_loss: 0.0344 - val_acc: 0.9964\n",
      "Epoch 48/100\n",
      "58263/58263 [==============================] - 10s 172us/step - loss: 0.0022 - acc: 0.9999 - val_loss: 0.0343 - val_acc: 0.9964\n",
      "Epoch 49/100\n",
      "58263/58263 [==============================] - 10s 179us/step - loss: 0.0022 - acc: 0.9999 - val_loss: 0.0344 - val_acc: 0.9964\n",
      "Epoch 50/100\n",
      "58263/58263 [==============================] - 10s 178us/step - loss: 0.0022 - acc: 0.9999 - val_loss: 0.0344 - val_acc: 0.9964\n",
      "Epoch 51/100\n",
      "58263/58263 [==============================] - 10s 180us/step - loss: 0.0022 - acc: 0.9999 - val_loss: 0.0342 - val_acc: 0.9964\n",
      "Epoch 52/100\n",
      "58263/58263 [==============================] - 10s 174us/step - loss: 0.0022 - acc: 0.9999 - val_loss: 0.0341 - val_acc: 0.9966\n",
      "Epoch 53/100\n",
      "58263/58263 [==============================] - 10s 167us/step - loss: 0.0022 - acc: 0.9999 - val_loss: 0.0340 - val_acc: 0.9966\n",
      "Epoch 54/100\n",
      "58263/58263 [==============================] - 9s 161us/step - loss: 0.0022 - acc: 0.9999 - val_loss: 0.0339 - val_acc: 0.9966\n",
      "Epoch 55/100\n",
      "58263/58263 [==============================] - 9s 158us/step - loss: 0.0022 - acc: 0.9999 - val_loss: 0.0338 - val_acc: 0.9966\n",
      "Epoch 56/100\n",
      "58263/58263 [==============================] - 9s 158us/step - loss: 0.0022 - acc: 0.9999 - val_loss: 0.0338 - val_acc: 0.9966\n",
      "Epoch 57/100\n",
      "58263/58263 [==============================] - 9s 159us/step - loss: 0.0022 - acc: 0.9999 - val_loss: 0.0337 - val_acc: 0.9966\n",
      "Epoch 58/100\n",
      "58263/58263 [==============================] - 9s 162us/step - loss: 0.0022 - acc: 0.9999 - val_loss: 0.0336 - val_acc: 0.9966\n",
      "Epoch 59/100\n"
     ]
    },
    {
     "name": "stdout",
     "output_type": "stream",
     "text": [
      "58263/58263 [==============================] - 10s 165us/step - loss: 0.0022 - acc: 0.9999 - val_loss: 0.0337 - val_acc: 0.9966\n",
      "Epoch 60/100\n",
      "58263/58263 [==============================] - 10s 174us/step - loss: 0.0022 - acc: 0.9999 - val_loss: 0.0337 - val_acc: 0.9966\n",
      "Epoch 61/100\n",
      "58263/58263 [==============================] - 10s 179us/step - loss: 0.0022 - acc: 0.9999 - val_loss: 0.0337 - val_acc: 0.9966\n",
      "Epoch 62/100\n",
      "58263/58263 [==============================] - 10s 178us/step - loss: 0.0022 - acc: 0.9999 - val_loss: 0.0337 - val_acc: 0.9966\n",
      "Epoch 63/100\n",
      "58263/58263 [==============================] - 10s 177us/step - loss: 0.0022 - acc: 0.9999 - val_loss: 0.0337 - val_acc: 0.9966\n",
      "Epoch 64/100\n",
      "58263/58263 [==============================] - 10s 168us/step - loss: 0.0022 - acc: 0.9999 - val_loss: 0.0338 - val_acc: 0.9966\n",
      "Epoch 65/100\n",
      "58263/58263 [==============================] - 9s 163us/step - loss: 0.0022 - acc: 0.9999 - val_loss: 0.0338 - val_acc: 0.9966\n",
      "Epoch 66/100\n",
      "58263/58263 [==============================] - 9s 158us/step - loss: 0.0022 - acc: 0.9999 - val_loss: 0.0338 - val_acc: 0.9966\n",
      "Epoch 67/100\n",
      "58263/58263 [==============================] - 9s 157us/step - loss: 0.0022 - acc: 0.9999 - val_loss: 0.0338 - val_acc: 0.9966\n",
      "Epoch 68/100\n",
      "58263/58263 [==============================] - 9s 158us/step - loss: 0.0022 - acc: 0.9999 - val_loss: 0.0338 - val_acc: 0.9966\n",
      "Epoch 69/100\n",
      "58263/58263 [==============================] - 9s 158us/step - loss: 0.0022 - acc: 0.9999 - val_loss: 0.0338 - val_acc: 0.9966\n",
      "Epoch 70/100\n",
      "58263/58263 [==============================] - 9s 162us/step - loss: 0.0022 - acc: 0.9999 - val_loss: 0.0338 - val_acc: 0.9966\n",
      "Epoch 71/100\n",
      "58263/58263 [==============================] - 10s 171us/step - loss: 0.0022 - acc: 0.9999 - val_loss: 0.0338 - val_acc: 0.9966\n",
      "Epoch 72/100\n",
      "58263/58263 [==============================] - 10s 179us/step - loss: 0.0022 - acc: 0.9999 - val_loss: 0.0338 - val_acc: 0.9966\n",
      "Epoch 73/100\n",
      "58263/58263 [==============================] - 11s 193us/step - loss: 0.0022 - acc: 0.9999 - val_loss: 0.0338 - val_acc: 0.9966\n",
      "Epoch 74/100\n",
      "58263/58263 [==============================] - 11s 182us/step - loss: 0.0022 - acc: 0.9999 - val_loss: 0.0338 - val_acc: 0.9966\n",
      "Epoch 75/100\n",
      "58263/58263 [==============================] - 10s 177us/step - loss: 0.0022 - acc: 0.9999 - val_loss: 0.0338 - val_acc: 0.9966\n",
      "Epoch 76/100\n",
      "58263/58263 [==============================] - 10s 170us/step - loss: 0.0022 - acc: 0.9999 - val_loss: 0.0338 - val_acc: 0.9966\n",
      "Epoch 77/100\n",
      "58263/58263 [==============================] - 9s 162us/step - loss: 0.0022 - acc: 0.9999 - val_loss: 0.0338 - val_acc: 0.9966\n",
      "Epoch 78/100\n",
      "58263/58263 [==============================] - 9s 163us/step - loss: 0.0022 - acc: 0.9999 - val_loss: 0.0338 - val_acc: 0.9966\n",
      "Epoch 79/100\n",
      "58263/58263 [==============================] - 9s 160us/step - loss: 0.0022 - acc: 0.9999 - val_loss: 0.0340 - val_acc: 0.9966\n",
      "Epoch 80/100\n",
      "58263/58263 [==============================] - 9s 158us/step - loss: 0.0022 - acc: 0.9999 - val_loss: 0.0340 - val_acc: 0.9966\n",
      "Epoch 81/100\n",
      "58263/58263 [==============================] - 9s 161us/step - loss: 0.0022 - acc: 0.9999 - val_loss: 0.0340 - val_acc: 0.9966\n",
      "Epoch 82/100\n",
      "58263/58263 [==============================] - 10s 170us/step - loss: 0.0022 - acc: 0.9999 - val_loss: 0.0340 - val_acc: 0.9966\n",
      "Epoch 83/100\n",
      "58263/58263 [==============================] - 10s 176us/step - loss: 0.0022 - acc: 0.9999 - val_loss: 0.0340 - val_acc: 0.9966\n",
      "Epoch 84/100\n",
      "58263/58263 [==============================] - 11s 182us/step - loss: 0.0022 - acc: 0.9999 - val_loss: 0.0340 - val_acc: 0.9966\n",
      "Epoch 85/100\n",
      "58263/58263 [==============================] - 11s 180us/step - loss: 0.0022 - acc: 0.9999 - val_loss: 0.0340 - val_acc: 0.9966\n",
      "Epoch 86/100\n",
      "58263/58263 [==============================] - 10s 179us/step - loss: 0.0022 - acc: 0.9999 - val_loss: 0.0338 - val_acc: 0.9966\n",
      "Epoch 87/100\n",
      "58263/58263 [==============================] - 10s 175us/step - loss: 0.0022 - acc: 0.9999 - val_loss: 0.0338 - val_acc: 0.9966\n",
      "Epoch 88/100\n",
      "58263/58263 [==============================] - 10s 168us/step - loss: 0.0022 - acc: 0.9999 - val_loss: 0.0339 - val_acc: 0.9966\n",
      "Epoch 89/100\n",
      "58263/58263 [==============================] - 9s 162us/step - loss: 0.0022 - acc: 0.9999 - val_loss: 0.0338 - val_acc: 0.9966\n",
      "Epoch 90/100\n",
      "58263/58263 [==============================] - 9s 159us/step - loss: 0.0022 - acc: 0.9999 - val_loss: 0.0336 - val_acc: 0.9966\n",
      "Epoch 91/100\n",
      "58263/58263 [==============================] - 9s 159us/step - loss: 0.0022 - acc: 0.9999 - val_loss: 0.0338 - val_acc: 0.9966\n",
      "Epoch 92/100\n",
      "58263/58263 [==============================] - 9s 159us/step - loss: 0.0022 - acc: 0.9999 - val_loss: 0.0338 - val_acc: 0.9966\n",
      "Epoch 93/100\n",
      "58263/58263 [==============================] - 10s 163us/step - loss: 0.0022 - acc: 0.9999 - val_loss: 0.0338 - val_acc: 0.9966\n",
      "Epoch 94/100\n",
      "58263/58263 [==============================] - 10s 169us/step - loss: 0.0022 - acc: 0.9999 - val_loss: 0.0338 - val_acc: 0.9966\n",
      "Epoch 95/100\n",
      "58263/58263 [==============================] - 10s 177us/step - loss: 0.0022 - acc: 0.9999 - val_loss: 0.0338 - val_acc: 0.9966\n",
      "Epoch 96/100\n",
      "58263/58263 [==============================] - 11s 181us/step - loss: 0.0022 - acc: 0.9999 - val_loss: 0.0338 - val_acc: 0.9966\n",
      "Epoch 97/100\n",
      "58263/58263 [==============================] - 10s 180us/step - loss: 0.0022 - acc: 0.9999 - val_loss: 0.0338 - val_acc: 0.9966\n",
      "Epoch 98/100\n",
      "58263/58263 [==============================] - 10s 178us/step - loss: 0.0022 - acc: 0.9999 - val_loss: 0.0338 - val_acc: 0.9966\n",
      "Epoch 99/100\n",
      "58263/58263 [==============================] - 10s 170us/step - loss: 0.0022 - acc: 0.9999 - val_loss: 0.0338 - val_acc: 0.9966\n",
      "Epoch 100/100\n",
      "58263/58263 [==============================] - 10s 165us/step - loss: 0.0022 - acc: 0.9999 - val_loss: 0.0338 - val_acc: 0.9966\n"
     ]
    }
   ],
   "source": [
    "history = model.fit([X_written_train, X_spoken_train], y_train,\n",
    "                    epochs=100, validation_split=0.1, batch_size=32)"
   ]
  },
  {
   "cell_type": "markdown",
   "metadata": {},
   "source": [
    "# plot loss and accuracy"
   ]
  },
  {
   "cell_type": "code",
   "execution_count": 41,
   "metadata": {
    "colab": {},
    "colab_type": "code",
    "id": "DS0Iyay3-a7N"
   },
   "outputs": [
    {
     "data": {
      "image/png": "[encoded data removed]",
      "text/plain": [
       "<Figure size 432x288 with 1 Axes>"
      ]
     },
     "metadata": {
      "needs_background": "light"
     },
     "output_type": "display_data"
    }
   ],
   "source": [
    "import matplotlib.pyplot as plt\n",
    "plt.plot(history.history['loss'])\n",
    "plt.plot(history.history['val_loss'])\n",
    "plt.title('model loss')\n",
    "plt.ylabel('loss')\n",
    "plt.xlabel('epoch')\n",
    "plt.legend(['train', 'test'], loc='upper left')\n",
    "plt.show()"
   ]
  },
  {
   "cell_type": "code",
   "execution_count": 42,
   "metadata": {},
   "outputs": [
    {
     "data": {
      "image/png": "[encoded data removed]",
      "text/plain": [
       "<Figure size 432x288 with 1 Axes>"
      ]
     },
     "metadata": {
      "needs_background": "light"
     },
     "output_type": "display_data"
    }
   ],
   "source": [
    "plt.plot(history.history['acc'])\n",
    "plt.plot(history.history['val_acc'])\n",
    "plt.title('model accuracy')\n",
    "plt.ylabel('acc')\n",
    "plt.xlabel('epoch')\n",
    "plt.legend(['train', 'test'], loc='upper left')\n",
    "plt.show()"
   ]
  }
 ],
 "metadata": {
  "colab": {
   "machine_shape": "hm",
   "name": "ml_assignment_Final_CNN.ipynb",
   "provenance": [],
   "toc_visible": true
  },
  "kernelspec": {
   "display_name": "Python 3",
   "language": "python",
   "name": "python3"
  },
  "language_info": {
   "codemirror_mode": {
    "name": "ipython",
    "version": 3
   },
   "file_extension": ".py",
   "mimetype": "text/x-python",
   "name": "python",
   "nbconvert_exporter": "python",
   "pygments_lexer": "ipython3",
   "version": "3.7.6"
  }
 },
 "nbformat": 4,
 "nbformat_minor": 1
}
