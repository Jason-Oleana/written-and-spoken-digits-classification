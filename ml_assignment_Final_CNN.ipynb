{
  "nbformat": 4,
  "nbformat_minor": 0,
  "metadata": {
    "kernelspec": {
      "display_name": "Python 3",
      "language": "python",
      "name": "python3"
    },
    "language_info": {
      "codemirror_mode": {
        "name": "ipython",
        "version": 3
      },
      "file_extension": ".py",
      "mimetype": "text/x-python",
      "name": "python",
      "nbconvert_exporter": "python",
      "pygments_lexer": "ipython3",
      "version": "3.6.4"
    },
    "colab": {
      "name": "ml_assignment_Final_CNN.ipynb",
      "provenance": [],
      "toc_visible": true,
      "machine_shape": "hm",
      "include_colab_link": true
    }
  },
  "cells": [
    {
      "cell_type": "markdown",
      "metadata": {
        "id": "view-in-github",
        "colab_type": "text"
      },
      "source": [
        "<a href=\"https://colab.research.google.com/github/Jason-Oleana/written-spoken-digits-cnn-classification/blob/master/ml_assignment_Final_CNN.ipynb\" target=\"_parent\"><img src=\"https://colab.research.google.com/assets/colab-badge.svg\" alt=\"Open In Colab\"/></a>"
      ]
    },
    {
      "cell_type": "markdown",
      "metadata": {
        "id": "R0XDMXa--a5D",
        "colab_type": "text"
      },
      "source": [
        "# Machine Learning Assignment"
      ]
    },
    {
      "cell_type": "markdown",
      "metadata": {
        "id": "Qh1di7G9-a5E",
        "colab_type": "text"
      },
      "source": [
        "## Imports"
      ]
    },
    {
      "cell_type": "code",
      "metadata": {
        "id": "J7vorEJ5-a5F",
        "colab_type": "code",
        "colab": {}
      },
      "source": [
        "import numpy\n",
        "import pandas as pd\n",
        "from sklearn.model_selection import train_test_split  \n",
        "from scipy.stats import kurtosis"
      ],
      "execution_count": 0,
      "outputs": []
    },
    {
      "cell_type": "markdown",
      "metadata": {
        "id": "FyN9Pqcx-a5H",
        "colab_type": "text"
      },
      "source": [
        "## Loading Data"
      ]
    },
    {
      "cell_type": "code",
      "metadata": {
        "id": "6Q_j86CU-a5I",
        "colab_type": "code",
        "outputId": "f68dae0a-4c4e-4808-ac63-89fdfac5749e",
        "colab": {
          "base_uri": "https://localhost:8080/",
          "height": 67
        }
      },
      "source": [
        "written_train = numpy.load(\"/content/drive/My Drive/Data Science/machine learning/written_train(1).npy\", allow_pickle=True)\n",
        "spoken_train = numpy.load(\"/content/drive/My Drive/Data Science/machine learning/spoken_train(1).npy\", allow_pickle=True)\n",
        "match_train = numpy.load(\"/content/drive/My Drive/Data Science/machine learning/match_train(1).npy\", allow_pickle=True)\n",
        "\n",
        "print(\"written train shape:\", written_train.shape)\n",
        "print(\"spoken train shape:\", spoken_train.shape)\n",
        "print(\"match train shape:\", match_train.shape)"
      ],
      "execution_count": 41,
      "outputs": [
        {
          "output_type": "stream",
          "text": [
            "written train shape: (45000, 784)\n",
            "spoken train shape: (45000,)\n",
            "match train shape: (45000,)\n"
          ],
          "name": "stdout"
        }
      ]
    },
    {
      "cell_type": "code",
      "metadata": {
        "id": "7A3160S1_Ctm",
        "colab_type": "code",
        "outputId": "10326c84-0045-4f21-c0aa-3f0a4269917a",
        "colab": {
          "base_uri": "https://localhost:8080/",
          "height": 121
        }
      },
      "source": [
        "from google.colab import drive\n",
        "drive.mount('/content/drive')"
      ],
      "execution_count": 3,
      "outputs": [
        {
          "output_type": "stream",
          "text": [
            "Go to this URL in a browser: https://accounts.google.com/o/oauth2/auth?client_id=947318989803-6bn6qk8qdgf4n4g3pfee6491hc0brc4i.apps.googleusercontent.com&redirect_uri=urn%3aietf%3awg%3aoauth%3a2.0%3aoob&response_type=code&scope=email%20https%3a%2f%2fwww.googleapis.com%2fauth%2fdocs.test%20https%3a%2f%2fwww.googleapis.com%2fauth%2fdrive%20https%3a%2f%2fwww.googleapis.com%2fauth%2fdrive.photos.readonly%20https%3a%2f%2fwww.googleapis.com%2fauth%2fpeopleapi.readonly\n",
            "\n",
            "Enter your authorization code:\n",
            "··········\n",
            "Mounted at /content/drive\n"
          ],
          "name": "stdout"
        }
      ]
    },
    {
      "cell_type": "code",
      "metadata": {
        "id": "eJpo6rCo-a5K",
        "colab_type": "code",
        "outputId": "88371987-1bc5-471e-8277-f9ac6804388a",
        "colab": {
          "base_uri": "https://localhost:8080/",
          "height": 34
        }
      },
      "source": [
        "largest_shape = 0\n",
        "for i in spoken_train:\n",
        "    shape = i.shape[0]\n",
        "    if shape > largest_shape:\n",
        "        largest_shape = shape\n",
        "\n",
        "print(largest_shape)"
      ],
      "execution_count": 42,
      "outputs": [
        {
          "output_type": "stream",
          "text": [
            "93\n"
          ],
          "name": "stdout"
        }
      ]
    },
    {
      "cell_type": "code",
      "metadata": {
        "id": "Lk13xKrO-a5M",
        "colab_type": "code",
        "outputId": "2c2d36d5-0263-421a-d0ac-84a28fe7b27c",
        "colab": {
          "base_uri": "https://localhost:8080/",
          "height": 34
        }
      },
      "source": [
        "new_spoken_train = []\n",
        "for example in spoken_train:\n",
        "    difference = largest_shape-example.shape[0]\n",
        "    zero_pad = numpy.pad(example,((0,difference),(0,0)), mode='constant')\n",
        "    new_spoken_train.append(zero_pad)\n",
        "\n",
        "new_spoken_train = numpy.array(new_spoken_train)\n",
        "new_spoken_train.shape"
      ],
      "execution_count": 43,
      "outputs": [
        {
          "output_type": "execute_result",
          "data": {
            "text/plain": [
              "(45000, 93, 13)"
            ]
          },
          "metadata": {
            "tags": []
          },
          "execution_count": 43
        }
      ]
    },
    {
      "cell_type": "code",
      "metadata": {
        "id": "zMsLjNrW-a5O",
        "colab_type": "code",
        "outputId": "b4fea139-3095-4bbb-905e-7ef7867f7fdc",
        "colab": {
          "base_uri": "https://localhost:8080/",
          "height": 34
        }
      },
      "source": [
        "print(93*13)"
      ],
      "execution_count": 9,
      "outputs": [
        {
          "output_type": "stream",
          "text": [
            "1209\n"
          ],
          "name": "stdout"
        }
      ]
    },
    {
      "cell_type": "code",
      "metadata": {
        "id": "EDETI6iI-a5Q",
        "colab_type": "code",
        "colab": {}
      },
      "source": [
        "spoken_train = new_spoken_train\n",
        "spoken_train = numpy.reshape(spoken_train,(45000,1209))"
      ],
      "execution_count": 0,
      "outputs": []
    },
    {
      "cell_type": "code",
      "metadata": {
        "id": "kca8m5jG-a5R",
        "colab_type": "code",
        "colab": {}
      },
      "source": [
        "from sklearn.preprocessing import StandardScaler\n",
        "\n",
        "scaler = StandardScaler()\n",
        "scaler.fit(spoken_train)\n",
        "spoken_train = scaler.transform(spoken_train)"
      ],
      "execution_count": 0,
      "outputs": []
    },
    {
      "cell_type": "markdown",
      "metadata": {
        "id": "ekdS357Q-a5T",
        "colab_type": "text"
      },
      "source": [
        "# Normalize pixel values to be between 0 and 1\n",
        "- divide written_train by 255"
      ]
    },
    {
      "cell_type": "code",
      "metadata": {
        "id": "YnvL7y9f-a5U",
        "colab_type": "code",
        "colab": {}
      },
      "source": [
        "X_written = written_train/255\n",
        "X_spoken = spoken_train\n",
        "y = match_train"
      ],
      "execution_count": 0,
      "outputs": []
    },
    {
      "cell_type": "markdown",
      "metadata": {
        "id": "M2CRbSxh-a5V",
        "colab_type": "text"
      },
      "source": [
        "## Label distribution"
      ]
    },
    {
      "cell_type": "code",
      "metadata": {
        "scrolled": true,
        "id": "d1A9zzvz-a5W",
        "colab_type": "code",
        "outputId": "a8133e99-5b6b-433b-cb25-0a70a3956d8d",
        "colab": {
          "base_uri": "https://localhost:8080/",
          "height": 67
        }
      },
      "source": [
        "total = len(y)\n",
        "positives = sum(y)\n",
        "negatives = total - positives\n",
        "\n",
        "print(\"number of total rows: {}\".format(total))\n",
        "print(\"number of positives: {} ({}%)\".format(positives, round((positives/total)*100,2)))\n",
        "print(\"number of negatives: {} ({}%)\".format(negatives, round((negatives/total)*100,2)))"
      ],
      "execution_count": 48,
      "outputs": [
        {
          "output_type": "stream",
          "text": [
            "number of total rows: 45000\n",
            "number of positives: 4539 (10.09%)\n",
            "number of negatives: 40461 (89.91%)\n"
          ],
          "name": "stdout"
        }
      ]
    },
    {
      "cell_type": "code",
      "metadata": {
        "id": "ymFd_DD7-a5Y",
        "colab_type": "code",
        "colab": {}
      },
      "source": [
        "X_written = numpy.reshape(X_written,(45000,784))\n",
        "X_spoken = numpy.reshape(X_spoken,(45000,1209))"
      ],
      "execution_count": 0,
      "outputs": []
    },
    {
      "cell_type": "code",
      "metadata": {
        "id": "GeAKUTdg-a5l",
        "colab_type": "code",
        "outputId": "a674510d-cb2d-438c-d545-27b20dd26528",
        "colab": {
          "base_uri": "https://localhost:8080/",
          "height": 121
        }
      },
      "source": [
        "from collections import Counter\n",
        "from imblearn.over_sampling import RandomOverSampler\n",
        "oversampler = RandomOverSampler(random_state=42)\n",
        "X_written, y1 = oversampler.fit_resample(X_written, y)\n",
        "X_spoken, y2 = oversampler.fit_resample(X_spoken, y)\n",
        "print('Resampled dataset shape %s' % Counter(y2))"
      ],
      "execution_count": 50,
      "outputs": [
        {
          "output_type": "stream",
          "text": [
            "/usr/local/lib/python3.6/dist-packages/sklearn/utils/deprecation.py:87: FutureWarning: Function safe_indexing is deprecated; safe_indexing is deprecated in version 0.22 and will be removed in version 0.24.\n",
            "  warnings.warn(msg, category=FutureWarning)\n",
            "/usr/local/lib/python3.6/dist-packages/sklearn/utils/deprecation.py:87: FutureWarning: Function safe_indexing is deprecated; safe_indexing is deprecated in version 0.22 and will be removed in version 0.24.\n",
            "  warnings.warn(msg, category=FutureWarning)\n"
          ],
          "name": "stderr"
        },
        {
          "output_type": "stream",
          "text": [
            "Resampled dataset shape Counter({False: 40461, True: 40461})\n"
          ],
          "name": "stdout"
        }
      ]
    },
    {
      "cell_type": "code",
      "metadata": {
        "id": "rqFrWlgrALOf",
        "colab_type": "code",
        "outputId": "bbe43e1f-97a2-40c1-bcb6-51d2865685e4",
        "colab": {
          "base_uri": "https://localhost:8080/",
          "height": 185
        }
      },
      "source": [
        "\n",
        "from numpy import array\n",
        "from numpy import argmax\n",
        "from sklearn.preprocessing import LabelEncoder\n",
        "from sklearn.preprocessing import OneHotEncoder\n",
        "# define example\n",
        "values = array(y2)\n",
        "print(values)\n",
        "# integer encode\n",
        "label_encoder = LabelEncoder()\n",
        "integer_encoded = label_encoder.fit_transform(values)\n",
        "print(integer_encoded)\n",
        "# binary encode\n",
        "onehot_encoder = OneHotEncoder(sparse=False)\n",
        "integer_encoded = integer_encoded.reshape(len(integer_encoded), 1)\n",
        "onehot_encoded = onehot_encoder.fit_transform(integer_encoded)\n",
        "print(onehot_encoded)\n",
        "# invert first example\n",
        "inverted = label_encoder.inverse_transform([argmax(onehot_encoded[0, :])])\n",
        "print(inverted)"
      ],
      "execution_count": 51,
      "outputs": [
        {
          "output_type": "stream",
          "text": [
            "[False False False ...  True  True  True]\n",
            "[0 0 0 ... 1 1 1]\n",
            "[[1. 0.]\n",
            " [1. 0.]\n",
            " [1. 0.]\n",
            " ...\n",
            " [0. 1.]\n",
            " [0. 1.]\n",
            " [0. 1.]]\n",
            "[False]\n"
          ],
          "name": "stdout"
        }
      ]
    },
    {
      "cell_type": "code",
      "metadata": {
        "id": "zR6hz7ODAI6B",
        "colab_type": "code",
        "outputId": "c00a3add-3980-404e-e8cc-ce071be3f6ae",
        "colab": {
          "base_uri": "https://localhost:8080/",
          "height": 67
        }
      },
      "source": [
        "print(X_written.shape)\n",
        "print(X_spoken.shape)\n",
        "print(y2.shape)"
      ],
      "execution_count": 52,
      "outputs": [
        {
          "output_type": "stream",
          "text": [
            "(80922, 784)\n",
            "(80922, 1209)\n",
            "(80922,)\n"
          ],
          "name": "stdout"
        }
      ]
    },
    {
      "cell_type": "markdown",
      "metadata": {
        "id": "EReMjbpt-a5n",
        "colab_type": "text"
      },
      "source": [
        "# step 1: split data in training and validation:\n",
        "- written train split: 80% train, 20% validation\n",
        "<br>\n",
        "- spoken train split: 80% train, 20% validation"
      ]
    },
    {
      "cell_type": "markdown",
      "metadata": {
        "id": "LY9TudTB-a5n",
        "colab_type": "text"
      },
      "source": [
        "Since the data is imbalanced, we use stratify to make sure the distribution of labels is the same in our train and validation datasets"
      ]
    },
    {
      "cell_type": "code",
      "metadata": {
        "id": "P2ZqU6gM-a5o",
        "colab_type": "code",
        "colab": {}
      },
      "source": [
        "X_written_train, X_written_test, X_spoken_train, X_spoken_test, y_train, y_valid = train_test_split(X_written, X_spoken, y2, test_size=0.20, stratify = y2)"
      ],
      "execution_count": 0,
      "outputs": []
    },
    {
      "cell_type": "code",
      "metadata": {
        "id": "LUCh1DC_9nQc",
        "colab_type": "code",
        "outputId": "9c7d6606-ae3a-4f4d-bf05-b18e812d6130",
        "colab": {
          "base_uri": "https://localhost:8080/",
          "height": 34
        }
      },
      "source": [
        "X_written_test.shape"
      ],
      "execution_count": 54,
      "outputs": [
        {
          "output_type": "execute_result",
          "data": {
            "text/plain": [
              "(16185, 784)"
            ]
          },
          "metadata": {
            "tags": []
          },
          "execution_count": 54
        }
      ]
    },
    {
      "cell_type": "code",
      "metadata": {
        "id": "RoC2lO2MAkfJ",
        "colab_type": "code",
        "colab": {}
      },
      "source": [
        "X_written_test = numpy.reshape(X_written_test,(X_written_test.shape[0],28,28))\n",
        "X_written_train = numpy.reshape(X_written_train,(X_written_train.shape[0],28,28))\n",
        "X_spoken_test = numpy.reshape(X_spoken_test,(X_spoken_test.shape[0],93,13))\n",
        "X_spoken_train = numpy.reshape(X_spoken_train,(X_spoken_train.shape[0],93,13))"
      ],
      "execution_count": 0,
      "outputs": []
    },
    {
      "cell_type": "code",
      "metadata": {
        "id": "wXyLGF8wRSiK",
        "colab_type": "code",
        "colab": {
          "base_uri": "https://localhost:8080/",
          "height": 655
        },
        "outputId": "46e7aa15-e089-4e33-d714-bf2bbcc4339f"
      },
      "source": [
        "from keras.models import Sequential\n",
        "from keras.layers import Dense, Conv1D, Flatten, MaxPooling1D, Dropout\n",
        "#create model\n",
        "import keras\n",
        "from keras.optimizers import Adam\n",
        "\n",
        "input1 = keras.layers.Input(shape=(28,28))\n",
        "x1 = keras.layers.Conv1D(32, 2, activation='relu')(input1)\n",
        "x1 = keras.layers.MaxPooling1D(2)(x1)\n",
        "x2 = keras.layers.Conv1D(32, 2, activation='relu')(x1)\n",
        "#x2 = keras.layers.MaxPooling1D(2)(x2)\n",
        "x3 = keras.layers.Flatten()(x2)\n",
        "input2 = keras.layers.Input(shape=(93,13))\n",
        "y1 = keras.layers.Conv1D(32, 2, activation='relu')(input2)\n",
        "y1 = keras.layers.MaxPooling1D(2)(y1)\n",
        "y2 = keras.layers.Conv1D(32, 2, activation='relu')(y1)\n",
        "#y2 = keras.layers.MaxPooling1D(2)(y2)\n",
        "y3 = keras.layers.Flatten()(y2)\n",
        "# Equivalent to subtracted = keras.layers.subtract([x1, x2])\n",
        "concatenate = keras.layers.Concatenate()([x3, y3])\n",
        "Dense_1 = Dense(100, activation='relu')(concatenate)\n",
        "Dense_2 = Dense(100, activation='relu')(Dense_1)\n",
        "out = keras.layers.Dense(1, activation = \"sigmoid\")(Dense_2)\n",
        "model = keras.models.Model(inputs=[input1, input2], outputs=out)\n",
        "model.compile(loss='binary_crossentropy',\n",
        "              optimizer=Adam(lr=0.001), metrics=['accuracy'])\n",
        "print(model.summary())"
      ],
      "execution_count": 57,
      "outputs": [
        {
          "output_type": "stream",
          "text": [
            "Model: \"model_7\"\n",
            "__________________________________________________________________________________________________\n",
            "Layer (type)                    Output Shape         Param #     Connected to                     \n",
            "==================================================================================================\n",
            "input_13 (InputLayer)           (None, 28, 28)       0                                            \n",
            "__________________________________________________________________________________________________\n",
            "input_14 (InputLayer)           (None, 93, 13)       0                                            \n",
            "__________________________________________________________________________________________________\n",
            "conv1d_25 (Conv1D)              (None, 27, 32)       1824        input_13[0][0]                   \n",
            "__________________________________________________________________________________________________\n",
            "conv1d_27 (Conv1D)              (None, 92, 32)       864         input_14[0][0]                   \n",
            "__________________________________________________________________________________________________\n",
            "max_pooling1d_15 (MaxPooling1D) (None, 13, 32)       0           conv1d_25[0][0]                  \n",
            "__________________________________________________________________________________________________\n",
            "max_pooling1d_16 (MaxPooling1D) (None, 46, 32)       0           conv1d_27[0][0]                  \n",
            "__________________________________________________________________________________________________\n",
            "conv1d_26 (Conv1D)              (None, 12, 32)       2080        max_pooling1d_15[0][0]           \n",
            "__________________________________________________________________________________________________\n",
            "conv1d_28 (Conv1D)              (None, 45, 32)       2080        max_pooling1d_16[0][0]           \n",
            "__________________________________________________________________________________________________\n",
            "flatten_13 (Flatten)            (None, 384)          0           conv1d_26[0][0]                  \n",
            "__________________________________________________________________________________________________\n",
            "flatten_14 (Flatten)            (None, 1440)         0           conv1d_28[0][0]                  \n",
            "__________________________________________________________________________________________________\n",
            "concatenate_7 (Concatenate)     (None, 1824)         0           flatten_13[0][0]                 \n",
            "                                                                 flatten_14[0][0]                 \n",
            "__________________________________________________________________________________________________\n",
            "dense_13 (Dense)                (None, 100)          182500      concatenate_7[0][0]              \n",
            "__________________________________________________________________________________________________\n",
            "dense_14 (Dense)                (None, 100)          10100       dense_13[0][0]                   \n",
            "__________________________________________________________________________________________________\n",
            "dense_15 (Dense)                (None, 1)            101         dense_14[0][0]                   \n",
            "==================================================================================================\n",
            "Total params: 199,549\n",
            "Trainable params: 199,549\n",
            "Non-trainable params: 0\n",
            "__________________________________________________________________________________________________\n",
            "None\n"
          ],
          "name": "stdout"
        }
      ]
    },
    {
      "cell_type": "code",
      "metadata": {
        "id": "atkojHJ5RU7z",
        "colab_type": "code",
        "colab": {}
      },
      "source": [
        "history = model.fit([X_written_train, X_spoken_train], y_train,\n",
        "                    epochs=150, validation_split=0.20, batch_size=64, verbose=0)"
      ],
      "execution_count": 0,
      "outputs": []
    }
  ]
}