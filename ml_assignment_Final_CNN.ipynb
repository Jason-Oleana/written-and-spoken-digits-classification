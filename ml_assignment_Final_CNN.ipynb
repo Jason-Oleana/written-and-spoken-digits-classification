{
 "cells": [
  {
   "cell_type": "markdown",
   "metadata": {
    "colab_type": "text",
    "id": "R0XDMXa--a5D"
   },
   "source": [
    "# Machine Learning Assignment"
   ]
  },
  {
   "cell_type": "markdown",
   "metadata": {
    "colab_type": "text",
    "id": "Qh1di7G9-a5E"
   },
   "source": [
    "## Imports"
   ]
  },
  {
   "cell_type": "code",
   "execution_count": 1,
   "metadata": {
    "colab": {},
    "colab_type": "code",
    "id": "J7vorEJ5-a5F"
   },
   "outputs": [],
   "source": [
    "import numpy\n",
    "import pandas as pd\n",
    "from sklearn.model_selection import train_test_split  \n",
    "from scipy.stats import kurtosis"
   ]
  },
  {
   "cell_type": "markdown",
   "metadata": {
    "colab_type": "text",
    "id": "FyN9Pqcx-a5H"
   },
   "source": [
    "## Loading Data"
   ]
  },
  {
   "cell_type": "code",
   "execution_count": 2,
   "metadata": {
    "colab": {
     "base_uri": "https://localhost:8080/",
     "height": 67
    },
    "colab_type": "code",
    "id": "6Q_j86CU-a5I",
    "outputId": "f68dae0a-4c4e-4808-ac63-89fdfac5749e"
   },
   "outputs": [
    {
     "name": "stdout",
     "output_type": "stream",
     "text": [
      "written train shape: (45000, 784)\n",
      "spoken train shape: (45000,)\n",
      "match train shape: (45000,)\n"
     ]
    }
   ],
   "source": [
    "written_train = numpy.load(\"C:/Users/voice/written-spoken-cnn/written_train(1).npy\", allow_pickle=True)\n",
    "spoken_train = numpy.load(\"C:/Users/voice/written-spoken-cnn/spoken_train(1).npy\", allow_pickle=True)\n",
    "match_train = numpy.load(\"C:/Users/voice/written-spoken-cnn/match_train(1).npy\", allow_pickle=True)\n",
    "\n",
    "print(\"written train shape:\", written_train.shape)\n",
    "print(\"spoken train shape:\", spoken_train.shape)\n",
    "print(\"match train shape:\", match_train.shape)"
   ]
  },
  {
   "cell_type": "code",
   "execution_count": 3,
   "metadata": {
    "colab": {
     "base_uri": "https://localhost:8080/",
     "height": 121
    },
    "colab_type": "code",
    "id": "7A3160S1_Ctm",
    "outputId": "10326c84-0045-4f21-c0aa-3f0a4269917a"
   },
   "outputs": [],
   "source": [
    "#from google.colab import drive\n",
    "#drive.mount('/content/drive')"
   ]
  },
  {
   "cell_type": "code",
   "execution_count": 4,
   "metadata": {
    "colab": {
     "base_uri": "https://localhost:8080/",
     "height": 34
    },
    "colab_type": "code",
    "id": "eJpo6rCo-a5K",
    "outputId": "88371987-1bc5-471e-8277-f9ac6804388a"
   },
   "outputs": [
    {
     "name": "stdout",
     "output_type": "stream",
     "text": [
      "93\n"
     ]
    }
   ],
   "source": [
    "largest_shape = 0\n",
    "for i in spoken_train:\n",
    "    shape = i.shape[0]\n",
    "    if shape > largest_shape:\n",
    "        largest_shape = shape\n",
    "\n",
    "print(largest_shape)"
   ]
  },
  {
   "cell_type": "code",
   "execution_count": 5,
   "metadata": {
    "colab": {
     "base_uri": "https://localhost:8080/",
     "height": 34
    },
    "colab_type": "code",
    "id": "Lk13xKrO-a5M",
    "outputId": "2c2d36d5-0263-421a-d0ac-84a28fe7b27c"
   },
   "outputs": [
    {
     "data": {
      "text/plain": [
       "(45000, 93, 13)"
      ]
     },
     "execution_count": 5,
     "metadata": {},
     "output_type": "execute_result"
    }
   ],
   "source": [
    "new_spoken_train = []\n",
    "for example in spoken_train:\n",
    "    difference = largest_shape-example.shape[0]\n",
    "    zero_pad = numpy.pad(example,((0,difference),(0,0)), mode='constant')\n",
    "    new_spoken_train.append(zero_pad)\n",
    "\n",
    "new_spoken_train = numpy.array(new_spoken_train)\n",
    "new_spoken_train.shape"
   ]
  },
  {
   "cell_type": "code",
   "execution_count": 6,
   "metadata": {
    "colab": {
     "base_uri": "https://localhost:8080/",
     "height": 34
    },
    "colab_type": "code",
    "id": "zMsLjNrW-a5O",
    "outputId": "b4fea139-3095-4bbb-905e-7ef7867f7fdc"
   },
   "outputs": [
    {
     "name": "stdout",
     "output_type": "stream",
     "text": [
      "1209\n"
     ]
    }
   ],
   "source": [
    "print(93*13)"
   ]
  },
  {
   "cell_type": "code",
   "execution_count": 7,
   "metadata": {
    "colab": {},
    "colab_type": "code",
    "id": "EDETI6iI-a5Q"
   },
   "outputs": [],
   "source": [
    "spoken_train = new_spoken_train\n",
    "spoken_train = numpy.reshape(spoken_train,(45000,1209))"
   ]
  },
  {
   "cell_type": "code",
   "execution_count": 8,
   "metadata": {
    "colab": {},
    "colab_type": "code",
    "id": "kca8m5jG-a5R"
   },
   "outputs": [],
   "source": [
    "from sklearn.preprocessing import StandardScaler\n",
    "\n",
    "scaler = StandardScaler()\n",
    "scaler.fit(spoken_train)\n",
    "spoken_train = scaler.transform(spoken_train)"
   ]
  },
  {
   "cell_type": "markdown",
   "metadata": {
    "colab_type": "text",
    "id": "ekdS357Q-a5T"
   },
   "source": [
    "# Normalize pixel values to be between 0 and 1\n",
    "- divide written_train by 255"
   ]
  },
  {
   "cell_type": "code",
   "execution_count": 9,
   "metadata": {
    "colab": {},
    "colab_type": "code",
    "id": "YnvL7y9f-a5U"
   },
   "outputs": [],
   "source": [
    "X_written = written_train/255\n",
    "X_spoken = spoken_train\n",
    "y = match_train"
   ]
  },
  {
   "cell_type": "markdown",
   "metadata": {
    "colab_type": "text",
    "id": "M2CRbSxh-a5V"
   },
   "source": [
    "## Label distribution"
   ]
  },
  {
   "cell_type": "code",
   "execution_count": 10,
   "metadata": {
    "colab": {
     "base_uri": "https://localhost:8080/",
     "height": 67
    },
    "colab_type": "code",
    "id": "d1A9zzvz-a5W",
    "outputId": "a8133e99-5b6b-433b-cb25-0a70a3956d8d",
    "scrolled": true
   },
   "outputs": [
    {
     "name": "stdout",
     "output_type": "stream",
     "text": [
      "number of total rows: 45000\n",
      "number of positives: 4539 (10.09%)\n",
      "number of negatives: 40461 (89.91%)\n"
     ]
    }
   ],
   "source": [
    "total = len(y)\n",
    "positives = sum(y)\n",
    "negatives = total - positives\n",
    "\n",
    "print(\"number of total rows: {}\".format(total))\n",
    "print(\"number of positives: {} ({}%)\".format(positives, round((positives/total)*100,2)))\n",
    "print(\"number of negatives: {} ({}%)\".format(negatives, round((negatives/total)*100,2)))"
   ]
  },
  {
   "cell_type": "code",
   "execution_count": 11,
   "metadata": {
    "colab": {},
    "colab_type": "code",
    "id": "ymFd_DD7-a5Y"
   },
   "outputs": [],
   "source": [
    "X_written = numpy.reshape(X_written,(45000,784))\n",
    "X_spoken = numpy.reshape(X_spoken,(45000,1209))"
   ]
  },
  {
   "cell_type": "code",
   "execution_count": 12,
   "metadata": {
    "colab": {
     "base_uri": "https://localhost:8080/",
     "height": 121
    },
    "colab_type": "code",
    "id": "GeAKUTdg-a5l",
    "outputId": "a674510d-cb2d-438c-d545-27b20dd26528"
   },
   "outputs": [
    {
     "name": "stderr",
     "output_type": "stream",
     "text": [
      "C:\\Users\\voice\\Anaconda3\\lib\\site-packages\\sklearn\\utils\\deprecation.py:144: FutureWarning: The sklearn.neighbors.base module is  deprecated in version 0.22 and will be removed in version 0.24. The corresponding classes / functions should instead be imported from sklearn.neighbors. Anything that cannot be imported from sklearn.neighbors is now part of the private API.\n",
      "  warnings.warn(message, FutureWarning)\n",
      "C:\\Users\\voice\\Anaconda3\\lib\\site-packages\\sklearn\\utils\\deprecation.py:144: FutureWarning: The sklearn.ensemble.bagging module is  deprecated in version 0.22 and will be removed in version 0.24. The corresponding classes / functions should instead be imported from sklearn.ensemble. Anything that cannot be imported from sklearn.ensemble is now part of the private API.\n",
      "  warnings.warn(message, FutureWarning)\n",
      "C:\\Users\\voice\\Anaconda3\\lib\\site-packages\\sklearn\\utils\\deprecation.py:144: FutureWarning: The sklearn.ensemble.base module is  deprecated in version 0.22 and will be removed in version 0.24. The corresponding classes / functions should instead be imported from sklearn.ensemble. Anything that cannot be imported from sklearn.ensemble is now part of the private API.\n",
      "  warnings.warn(message, FutureWarning)\n",
      "C:\\Users\\voice\\Anaconda3\\lib\\site-packages\\sklearn\\utils\\deprecation.py:144: FutureWarning: The sklearn.ensemble.forest module is  deprecated in version 0.22 and will be removed in version 0.24. The corresponding classes / functions should instead be imported from sklearn.ensemble. Anything that cannot be imported from sklearn.ensemble is now part of the private API.\n",
      "  warnings.warn(message, FutureWarning)\n",
      "Using TensorFlow backend.\n",
      "C:\\Users\\voice\\Anaconda3\\lib\\site-packages\\tensorboard\\compat\\tensorflow_stub\\dtypes.py:541: FutureWarning: Passing (type, 1) or '1type' as a synonym of type is deprecated; in a future version of numpy, it will be understood as (type, (1,)) / '(1,)type'.\n",
      "  _np_qint8 = np.dtype([(\"qint8\", np.int8, 1)])\n",
      "C:\\Users\\voice\\Anaconda3\\lib\\site-packages\\tensorboard\\compat\\tensorflow_stub\\dtypes.py:542: FutureWarning: Passing (type, 1) or '1type' as a synonym of type is deprecated; in a future version of numpy, it will be understood as (type, (1,)) / '(1,)type'.\n",
      "  _np_quint8 = np.dtype([(\"quint8\", np.uint8, 1)])\n",
      "C:\\Users\\voice\\Anaconda3\\lib\\site-packages\\tensorboard\\compat\\tensorflow_stub\\dtypes.py:543: FutureWarning: Passing (type, 1) or '1type' as a synonym of type is deprecated; in a future version of numpy, it will be understood as (type, (1,)) / '(1,)type'.\n",
      "  _np_qint16 = np.dtype([(\"qint16\", np.int16, 1)])\n",
      "C:\\Users\\voice\\Anaconda3\\lib\\site-packages\\tensorboard\\compat\\tensorflow_stub\\dtypes.py:544: FutureWarning: Passing (type, 1) or '1type' as a synonym of type is deprecated; in a future version of numpy, it will be understood as (type, (1,)) / '(1,)type'.\n",
      "  _np_quint16 = np.dtype([(\"quint16\", np.uint16, 1)])\n",
      "C:\\Users\\voice\\Anaconda3\\lib\\site-packages\\tensorboard\\compat\\tensorflow_stub\\dtypes.py:545: FutureWarning: Passing (type, 1) or '1type' as a synonym of type is deprecated; in a future version of numpy, it will be understood as (type, (1,)) / '(1,)type'.\n",
      "  _np_qint32 = np.dtype([(\"qint32\", np.int32, 1)])\n",
      "C:\\Users\\voice\\Anaconda3\\lib\\site-packages\\tensorboard\\compat\\tensorflow_stub\\dtypes.py:550: FutureWarning: Passing (type, 1) or '1type' as a synonym of type is deprecated; in a future version of numpy, it will be understood as (type, (1,)) / '(1,)type'.\n",
      "  np_resource = np.dtype([(\"resource\", np.ubyte, 1)])\n",
      "C:\\Users\\voice\\Anaconda3\\lib\\site-packages\\sklearn\\utils\\deprecation.py:144: FutureWarning: The sklearn.utils.testing module is  deprecated in version 0.22 and will be removed in version 0.24. The corresponding classes / functions should instead be imported from sklearn.utils. Anything that cannot be imported from sklearn.utils is now part of the private API.\n",
      "  warnings.warn(message, FutureWarning)\n",
      "C:\\Users\\voice\\Anaconda3\\lib\\site-packages\\sklearn\\utils\\deprecation.py:144: FutureWarning: The sklearn.metrics.classification module is  deprecated in version 0.22 and will be removed in version 0.24. The corresponding classes / functions should instead be imported from sklearn.metrics. Anything that cannot be imported from sklearn.metrics is now part of the private API.\n",
      "  warnings.warn(message, FutureWarning)\n",
      "C:\\Users\\voice\\Anaconda3\\lib\\site-packages\\sklearn\\utils\\deprecation.py:87: FutureWarning: Function safe_indexing is deprecated; safe_indexing is deprecated in version 0.22 and will be removed in version 0.24.\n",
      "  warnings.warn(msg, category=FutureWarning)\n",
      "C:\\Users\\voice\\Anaconda3\\lib\\site-packages\\sklearn\\utils\\deprecation.py:87: FutureWarning: Function safe_indexing is deprecated; safe_indexing is deprecated in version 0.22 and will be removed in version 0.24.\n",
      "  warnings.warn(msg, category=FutureWarning)\n"
     ]
    },
    {
     "name": "stdout",
     "output_type": "stream",
     "text": [
      "Resampled dataset shape Counter({False: 40461, True: 40461})\n"
     ]
    }
   ],
   "source": [
    "from collections import Counter\n",
    "from imblearn.over_sampling import RandomOverSampler\n",
    "oversampler = RandomOverSampler(random_state=42)\n",
    "X_written, y1 = oversampler.fit_resample(X_written, y)\n",
    "X_spoken, y2 = oversampler.fit_resample(X_spoken, y)\n",
    "print('Resampled dataset shape %s' % Counter(y2))"
   ]
  },
  {
   "cell_type": "code",
   "execution_count": 13,
   "metadata": {
    "colab": {
     "base_uri": "https://localhost:8080/",
     "height": 185
    },
    "colab_type": "code",
    "id": "rqFrWlgrALOf",
    "outputId": "bbe43e1f-97a2-40c1-bcb6-51d2865685e4"
   },
   "outputs": [
    {
     "name": "stdout",
     "output_type": "stream",
     "text": [
      "[False False False ...  True  True  True]\n",
      "[0 0 0 ... 1 1 1]\n",
      "[[1. 0.]\n",
      " [1. 0.]\n",
      " [1. 0.]\n",
      " ...\n",
      " [0. 1.]\n",
      " [0. 1.]\n",
      " [0. 1.]]\n",
      "[False]\n"
     ]
    }
   ],
   "source": [
    "\n",
    "from numpy import array\n",
    "from numpy import argmax\n",
    "from sklearn.preprocessing import LabelEncoder\n",
    "from sklearn.preprocessing import OneHotEncoder\n",
    "# define example\n",
    "values = array(y2)\n",
    "print(values)\n",
    "# integer encode\n",
    "label_encoder = LabelEncoder()\n",
    "integer_encoded = label_encoder.fit_transform(values)\n",
    "print(integer_encoded)\n",
    "# binary encode\n",
    "onehot_encoder = OneHotEncoder(sparse=False)\n",
    "integer_encoded = integer_encoded.reshape(len(integer_encoded), 1)\n",
    "onehot_encoded = onehot_encoder.fit_transform(integer_encoded)\n",
    "print(onehot_encoded)\n",
    "# invert first example\n",
    "inverted = label_encoder.inverse_transform([argmax(onehot_encoded[0, :])])\n",
    "print(inverted)"
   ]
  },
  {
   "cell_type": "code",
   "execution_count": 14,
   "metadata": {
    "colab": {
     "base_uri": "https://localhost:8080/",
     "height": 67
    },
    "colab_type": "code",
    "id": "zR6hz7ODAI6B",
    "outputId": "c00a3add-3980-404e-e8cc-ce071be3f6ae"
   },
   "outputs": [
    {
     "name": "stdout",
     "output_type": "stream",
     "text": [
      "(80922, 784)\n",
      "(80922, 1209)\n",
      "(80922,)\n"
     ]
    }
   ],
   "source": [
    "print(X_written.shape)\n",
    "print(X_spoken.shape)\n",
    "print(y2.shape)"
   ]
  },
  {
   "cell_type": "markdown",
   "metadata": {
    "colab_type": "text",
    "id": "EReMjbpt-a5n"
   },
   "source": [
    "# step 1: split data in training and validation:\n",
    "- written train split: 80% train, 20% validation\n",
    "<br>\n",
    "- spoken train split: 80% train, 20% validation"
   ]
  },
  {
   "cell_type": "markdown",
   "metadata": {
    "colab_type": "text",
    "id": "LY9TudTB-a5n"
   },
   "source": [
    "Since the data is imbalanced, we use stratify to make sure the distribution of labels is the same in our train and validation datasets"
   ]
  },
  {
   "cell_type": "code",
   "execution_count": 15,
   "metadata": {
    "colab": {},
    "colab_type": "code",
    "id": "P2ZqU6gM-a5o"
   },
   "outputs": [],
   "source": [
    "X_written_train, X_written_test, X_spoken_train, X_spoken_test, y_train, y_valid = train_test_split(X_written, X_spoken, y2, test_size=0.20, stratify = y2)"
   ]
  },
  {
   "cell_type": "code",
   "execution_count": 16,
   "metadata": {
    "colab": {
     "base_uri": "https://localhost:8080/",
     "height": 34
    },
    "colab_type": "code",
    "id": "LUCh1DC_9nQc",
    "outputId": "9c7d6606-ae3a-4f4d-bf05-b18e812d6130"
   },
   "outputs": [
    {
     "data": {
      "text/plain": [
       "(16185, 784)"
      ]
     },
     "execution_count": 16,
     "metadata": {},
     "output_type": "execute_result"
    }
   ],
   "source": [
    "X_written_test.shape"
   ]
  },
  {
   "cell_type": "code",
   "execution_count": 17,
   "metadata": {
    "colab": {},
    "colab_type": "code",
    "id": "RoC2lO2MAkfJ"
   },
   "outputs": [],
   "source": [
    "X_written_test = numpy.reshape(X_written_test,(X_written_test.shape[0],28,28))\n",
    "X_written_train = numpy.reshape(X_written_train,(X_written_train.shape[0],28,28))\n",
    "X_spoken_test = numpy.reshape(X_spoken_test,(X_spoken_test.shape[0],93,13))\n",
    "X_spoken_train = numpy.reshape(X_spoken_train,(X_spoken_train.shape[0],93,13))"
   ]
  },
  {
   "cell_type": "code",
   "execution_count": 18,
   "metadata": {
    "colab": {
     "base_uri": "https://localhost:8080/",
     "height": 655
    },
    "colab_type": "code",
    "id": "wXyLGF8wRSiK",
    "outputId": "46e7aa15-e089-4e33-d714-bf2bbcc4339f"
   },
   "outputs": [
    {
     "name": "stdout",
     "output_type": "stream",
     "text": [
      "WARNING:tensorflow:From C:\\Users\\voice\\Anaconda3\\lib\\site-packages\\keras\\backend\\tensorflow_backend.py:66: The name tf.get_default_graph is deprecated. Please use tf.compat.v1.get_default_graph instead.\n",
      "\n",
      "WARNING:tensorflow:From C:\\Users\\voice\\Anaconda3\\lib\\site-packages\\keras\\backend\\tensorflow_backend.py:541: The name tf.placeholder is deprecated. Please use tf.compat.v1.placeholder instead.\n",
      "\n",
      "WARNING:tensorflow:From C:\\Users\\voice\\Anaconda3\\lib\\site-packages\\keras\\backend\\tensorflow_backend.py:4432: The name tf.random_uniform is deprecated. Please use tf.random.uniform instead.\n",
      "\n",
      "WARNING:tensorflow:From C:\\Users\\voice\\Anaconda3\\lib\\site-packages\\keras\\backend\\tensorflow_backend.py:4267: The name tf.nn.max_pool is deprecated. Please use tf.nn.max_pool2d instead.\n",
      "\n",
      "WARNING:tensorflow:From C:\\Users\\voice\\Anaconda3\\lib\\site-packages\\keras\\optimizers.py:793: The name tf.train.Optimizer is deprecated. Please use tf.compat.v1.train.Optimizer instead.\n",
      "\n",
      "WARNING:tensorflow:From C:\\Users\\voice\\Anaconda3\\lib\\site-packages\\keras\\backend\\tensorflow_backend.py:3657: The name tf.log is deprecated. Please use tf.math.log instead.\n",
      "\n",
      "WARNING:tensorflow:From C:\\Users\\voice\\Anaconda3\\lib\\site-packages\\tensorflow_core\\python\\ops\\nn_impl.py:183: where (from tensorflow.python.ops.array_ops) is deprecated and will be removed in a future version.\n",
      "Instructions for updating:\n",
      "Use tf.where in 2.0, which has the same broadcast rule as np.where\n",
      "Model: \"model_1\"\n",
      "__________________________________________________________________________________________________\n",
      "Layer (type)                    Output Shape         Param #     Connected to                     \n",
      "==================================================================================================\n",
      "input_1 (InputLayer)            (None, 28, 28)       0                                            \n",
      "__________________________________________________________________________________________________\n",
      "input_2 (InputLayer)            (None, 93, 13)       0                                            \n",
      "__________________________________________________________________________________________________\n",
      "conv1d_1 (Conv1D)               (None, 27, 32)       1824        input_1[0][0]                    \n",
      "__________________________________________________________________________________________________\n",
      "conv1d_3 (Conv1D)               (None, 92, 32)       864         input_2[0][0]                    \n",
      "__________________________________________________________________________________________________\n",
      "max_pooling1d_1 (MaxPooling1D)  (None, 13, 32)       0           conv1d_1[0][0]                   \n",
      "__________________________________________________________________________________________________\n",
      "max_pooling1d_2 (MaxPooling1D)  (None, 46, 32)       0           conv1d_3[0][0]                   \n",
      "__________________________________________________________________________________________________\n",
      "conv1d_2 (Conv1D)               (None, 12, 32)       2080        max_pooling1d_1[0][0]            \n",
      "__________________________________________________________________________________________________\n",
      "conv1d_4 (Conv1D)               (None, 45, 32)       2080        max_pooling1d_2[0][0]            \n",
      "__________________________________________________________________________________________________\n",
      "flatten_1 (Flatten)             (None, 384)          0           conv1d_2[0][0]                   \n",
      "__________________________________________________________________________________________________\n",
      "flatten_2 (Flatten)             (None, 1440)         0           conv1d_4[0][0]                   \n",
      "__________________________________________________________________________________________________\n",
      "concatenate_1 (Concatenate)     (None, 1824)         0           flatten_1[0][0]                  \n",
      "                                                                 flatten_2[0][0]                  \n",
      "__________________________________________________________________________________________________\n",
      "dense_1 (Dense)                 (None, 100)          182500      concatenate_1[0][0]              \n",
      "__________________________________________________________________________________________________\n",
      "dense_2 (Dense)                 (None, 100)          10100       dense_1[0][0]                    \n",
      "__________________________________________________________________________________________________\n",
      "dense_3 (Dense)                 (None, 1)            101         dense_2[0][0]                    \n",
      "==================================================================================================\n",
      "Total params: 199,549\n",
      "Trainable params: 199,549\n",
      "Non-trainable params: 0\n",
      "__________________________________________________________________________________________________\n",
      "None\n"
     ]
    }
   ],
   "source": [
    "from keras.models import Sequential\n",
    "from keras.layers import Dense, Conv1D, Flatten, MaxPooling1D, Dropout\n",
    "#create model\n",
    "import keras\n",
    "from keras.optimizers import Adam\n",
    "\n",
    "input1 = keras.layers.Input(shape=(28,28))\n",
    "x1 = keras.layers.Conv1D(32, 2, activation='relu')(input1)\n",
    "x1 = keras.layers.MaxPooling1D(2)(x1)\n",
    "x2 = keras.layers.Conv1D(32, 2, activation='relu')(x1)\n",
    "#x2 = keras.layers.MaxPooling1D(2)(x2)\n",
    "x3 = keras.layers.Flatten()(x2)\n",
    "input2 = keras.layers.Input(shape=(93,13))\n",
    "y1 = keras.layers.Conv1D(32, 2, activation='relu')(input2)\n",
    "y1 = keras.layers.MaxPooling1D(2)(y1)\n",
    "y2 = keras.layers.Conv1D(32, 2, activation='relu')(y1)\n",
    "#y2 = keras.layers.MaxPooling1D(2)(y2)\n",
    "y3 = keras.layers.Flatten()(y2)\n",
    "# Equivalent to subtracted = keras.layers.subtract([x1, x2])\n",
    "concatenate = keras.layers.Concatenate()([x3, y3])\n",
    "Dense_1 = Dense(100, activation='relu')(concatenate)\n",
    "Dense_2 = Dense(100, activation='relu')(Dense_1)\n",
    "out = keras.layers.Dense(1, activation = \"sigmoid\")(Dense_2)\n",
    "model = keras.models.Model(inputs=[input1, input2], outputs=out)\n",
    "model.compile(loss='binary_crossentropy',\n",
    "              optimizer=Adam(lr=0.001), metrics=['accuracy'])\n",
    "print(model.summary())"
   ]
  },
  {
   "cell_type": "code",
   "execution_count": 19,
   "metadata": {
    "colab": {},
    "colab_type": "code",
    "id": "atkojHJ5RU7z"
   },
   "outputs": [
    {
     "name": "stdout",
     "output_type": "stream",
     "text": [
      "WARNING:tensorflow:From C:\\Users\\voice\\Anaconda3\\lib\\site-packages\\keras\\backend\\tensorflow_backend.py:1033: The name tf.assign_add is deprecated. Please use tf.compat.v1.assign_add instead.\n",
      "\n",
      "WARNING:tensorflow:From C:\\Users\\voice\\Anaconda3\\lib\\site-packages\\keras\\backend\\tensorflow_backend.py:1020: The name tf.assign is deprecated. Please use tf.compat.v1.assign instead.\n",
      "\n",
      "WARNING:tensorflow:From C:\\Users\\voice\\Anaconda3\\lib\\site-packages\\keras\\backend\\tensorflow_backend.py:3005: The name tf.Session is deprecated. Please use tf.compat.v1.Session instead.\n",
      "\n",
      "Train on 58263 samples, validate on 6474 samples\n",
      "Epoch 1/20\n",
      "WARNING:tensorflow:From C:\\Users\\voice\\Anaconda3\\lib\\site-packages\\keras\\backend\\tensorflow_backend.py:190: The name tf.get_default_session is deprecated. Please use tf.compat.v1.get_default_session instead.\n",
      "\n",
      "WARNING:tensorflow:From C:\\Users\\voice\\Anaconda3\\lib\\site-packages\\keras\\backend\\tensorflow_backend.py:197: The name tf.ConfigProto is deprecated. Please use tf.compat.v1.ConfigProto instead.\n",
      "\n",
      "WARNING:tensorflow:From C:\\Users\\voice\\Anaconda3\\lib\\site-packages\\keras\\backend\\tensorflow_backend.py:207: The name tf.global_variables is deprecated. Please use tf.compat.v1.global_variables instead.\n",
      "\n",
      "WARNING:tensorflow:From C:\\Users\\voice\\Anaconda3\\lib\\site-packages\\keras\\backend\\tensorflow_backend.py:216: The name tf.is_variable_initialized is deprecated. Please use tf.compat.v1.is_variable_initialized instead.\n",
      "\n",
      "WARNING:tensorflow:From C:\\Users\\voice\\Anaconda3\\lib\\site-packages\\keras\\backend\\tensorflow_backend.py:223: The name tf.variables_initializer is deprecated. Please use tf.compat.v1.variables_initializer instead.\n",
      "\n",
      "58263/58263 [==============================] - 10s 164us/step - loss: 0.3218 - acc: 0.8392 - val_loss: 0.1350 - val_acc: 0.9447\n",
      "Epoch 2/20\n",
      "58263/58263 [==============================] - 9s 149us/step - loss: 0.0773 - acc: 0.9738 - val_loss: 0.0665 - val_acc: 0.9768\n",
      "Epoch 3/20\n",
      "58263/58263 [==============================] - 9s 153us/step - loss: 0.0419 - acc: 0.9864 - val_loss: 0.0479 - val_acc: 0.9832\n",
      "Epoch 4/20\n",
      "58263/58263 [==============================] - 9s 150us/step - loss: 0.0279 - acc: 0.9908 - val_loss: 0.0408 - val_acc: 0.9889\n",
      "Epoch 5/20\n",
      "58263/58263 [==============================] - 9s 158us/step - loss: 0.0227 - acc: 0.9923 - val_loss: 0.0382 - val_acc: 0.9883\n",
      "Epoch 6/20\n",
      "58263/58263 [==============================] - 10s 165us/step - loss: 0.0177 - acc: 0.9943 - val_loss: 0.0380 - val_acc: 0.9890\n",
      "Epoch 7/20\n",
      "58263/58263 [==============================] - 9s 155us/step - loss: 0.0174 - acc: 0.9943 - val_loss: 0.0596 - val_acc: 0.9876\n",
      "Epoch 8/20\n",
      "58263/58263 [==============================] - 10s 168us/step - loss: 0.0135 - acc: 0.9960 - val_loss: 0.0439 - val_acc: 0.9901\n",
      "Epoch 9/20\n",
      "58263/58263 [==============================] - 10s 171us/step - loss: 0.0121 - acc: 0.9963 - val_loss: 0.0478 - val_acc: 0.9870\n",
      "Epoch 10/20\n",
      "58263/58263 [==============================] - 11s 188us/step - loss: 0.0093 - acc: 0.9973 - val_loss: 0.0401 - val_acc: 0.9912\n",
      "Epoch 11/20\n",
      "58263/58263 [==============================] - 10s 177us/step - loss: 0.0113 - acc: 0.9964 - val_loss: 0.0384 - val_acc: 0.9907\n",
      "Epoch 12/20\n",
      "58263/58263 [==============================] - 10s 179us/step - loss: 0.0102 - acc: 0.9972 - val_loss: 0.0313 - val_acc: 0.9946\n",
      "Epoch 13/20\n",
      "58263/58263 [==============================] - 10s 176us/step - loss: 0.0094 - acc: 0.9974 - val_loss: 0.0505 - val_acc: 0.9873\n",
      "Epoch 14/20\n",
      "58263/58263 [==============================] - 9s 162us/step - loss: 0.0101 - acc: 0.9974 - val_loss: 0.0402 - val_acc: 0.9917\n",
      "Epoch 15/20\n",
      "58263/58263 [==============================] - 9s 158us/step - loss: 0.0070 - acc: 0.9980 - val_loss: 0.0515 - val_acc: 0.9918\n",
      "Epoch 16/20\n",
      "58263/58263 [==============================] - 9s 153us/step - loss: 0.0077 - acc: 0.9978 - val_loss: 0.0315 - val_acc: 0.9943\n",
      "Epoch 17/20\n",
      "58263/58263 [==============================] - 9s 152us/step - loss: 0.0080 - acc: 0.9976 - val_loss: 0.0433 - val_acc: 0.9927\n",
      "Epoch 18/20\n",
      "58263/58263 [==============================] - 9s 153us/step - loss: 0.0067 - acc: 0.9981 - val_loss: 0.0483 - val_acc: 0.9903\n",
      "Epoch 19/20\n",
      "58263/58263 [==============================] - 9s 153us/step - loss: 0.0044 - acc: 0.9987 - val_loss: 0.0411 - val_acc: 0.9937\n",
      "Epoch 20/20\n",
      "58263/58263 [==============================] - 9s 158us/step - loss: 0.0083 - acc: 0.9979 - val_loss: 0.0366 - val_acc: 0.9927\n"
     ]
    }
   ],
   "source": [
    "history = model.fit([X_written_train, X_spoken_train], y_train,\n",
    "                    epochs=20, validation_split=0.1, batch_size=32)"
   ]
  },
  {
   "cell_type": "markdown",
   "metadata": {},
   "source": [
    "# plot loss and accuracy"
   ]
  },
  {
   "cell_type": "code",
   "execution_count": 20,
   "metadata": {
    "colab": {},
    "colab_type": "code",
    "id": "DS0Iyay3-a7N"
   },
   "outputs": [
    {
     "data": {
      "image/png": "[encoded data removed]",
      "text/plain": [
       "<Figure size 432x288 with 1 Axes>"
      ]
     },
     "metadata": {
      "needs_background": "light"
     },
     "output_type": "display_data"
    }
   ],
   "source": [
    "import matplotlib.pyplot as plt\n",
    "plt.plot(history.history['loss'])\n",
    "plt.plot(history.history['val_loss'])\n",
    "plt.title('model loss')\n",
    "plt.ylabel('loss')\n",
    "plt.xlabel('epoch')\n",
    "plt.legend(['train', 'test'], loc='upper left')\n",
    "plt.show()"
   ]
  },
  {
   "cell_type": "code",
   "execution_count": 21,
   "metadata": {},
   "outputs": [
    {
     "data": {
      "image/png": "[encoded data removed]",
      "text/plain": [
       "<Figure size 432x288 with 1 Axes>"
      ]
     },
     "metadata": {
      "needs_background": "light"
     },
     "output_type": "display_data"
    }
   ],
   "source": [
    "plt.plot(history.history['acc'])\n",
    "plt.plot(history.history['val_acc'])\n",
    "plt.title('model accuracy')\n",
    "plt.ylabel('acc')\n",
    "plt.xlabel('epoch')\n",
    "plt.legend(['train', 'test'], loc='upper left')\n",
    "plt.show()"
   ]
  },
  {
   "cell_type": "code",
   "execution_count": null,
   "metadata": {},
   "outputs": [],
   "source": []
  }
 ],
 "metadata": {
  "colab": {
   "machine_shape": "hm",
   "name": "ml_assignment_Final_CNN.ipynb",
   "provenance": [],
   "toc_visible": true
  },
  "kernelspec": {
   "display_name": "Python 3",
   "language": "python",
   "name": "python3"
  },
  "language_info": {
   "codemirror_mode": {
    "name": "ipython",
    "version": 3
   },
   "file_extension": ".py",
   "mimetype": "text/x-python",
   "name": "python",
   "nbconvert_exporter": "python",
   "pygments_lexer": "ipython3",
   "version": "3.7.6"
  }
 },
 "nbformat": 4,
 "nbformat_minor": 1
}
