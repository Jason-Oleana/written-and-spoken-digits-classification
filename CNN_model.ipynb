{
 "cells": [
  {
   "cell_type": "markdown",
   "metadata": {
    "colab_type": "text",
    "id": "R0XDMXa--a5D"
   },
   "source": [
    "# Classification of written and spoken digits"
   ]
  },
  {
   "cell_type": "markdown",
   "metadata": {
    "colab_type": "text",
    "id": "Qh1di7G9-a5E"
   },
   "source": [
    "## Imports"
   ]
  },
  {
   "cell_type": "code",
   "execution_count": 1,
   "metadata": {
    "colab": {},
    "colab_type": "code",
    "id": "J7vorEJ5-a5F"
   },
   "outputs": [],
   "source": [
    "import numpy\n",
    "import pandas as pd\n",
    "from sklearn.model_selection import train_test_split  \n",
    "from scipy.stats import kurtosis"
   ]
  },
  {
   "cell_type": "markdown",
   "metadata": {
    "colab_type": "text",
    "id": "FyN9Pqcx-a5H"
   },
   "source": [
    "## Loading Data"
   ]
  },
  {
   "cell_type": "code",
   "execution_count": 2,
   "metadata": {
    "colab": {
     "base_uri": "https://localhost:8080/",
     "height": 67
    },
    "colab_type": "code",
    "id": "6Q_j86CU-a5I",
    "outputId": "f68dae0a-4c4e-4808-ac63-89fdfac5749e"
   },
   "outputs": [
    {
     "name": "stdout",
     "output_type": "stream",
     "text": [
      "written train shape: (45000, 784)\n",
      "spoken train shape: (45000,)\n",
      "match train shape: (45000,)\n"
     ]
    }
   ],
   "source": [
    "written_train = numpy.load(\"C:/Users/voice/written-spoken-cnn/written_train(1).npy\", allow_pickle=True)\n",
    "spoken_train = numpy.load(\"C:/Users/voice/written-spoken-cnn/spoken_train(1).npy\", allow_pickle=True)\n",
    "match_train = numpy.load(\"C:/Users/voice/written-spoken-cnn/match_train(1).npy\", allow_pickle=True)\n",
    "\n",
    "print(\"written train shape:\", written_train.shape)\n",
    "print(\"spoken train shape:\", spoken_train.shape)\n",
    "print(\"match train shape:\", match_train.shape)"
   ]
  },
  {
   "cell_type": "code",
   "execution_count": 3,
   "metadata": {
    "colab": {
     "base_uri": "https://localhost:8080/",
     "height": 121
    },
    "colab_type": "code",
    "id": "7A3160S1_Ctm",
    "outputId": "10326c84-0045-4f21-c0aa-3f0a4269917a"
   },
   "outputs": [],
   "source": [
    "#from google.colab import drive\n",
    "#drive.mount('/content/drive')"
   ]
  },
  {
   "cell_type": "code",
   "execution_count": 4,
   "metadata": {
    "colab": {
     "base_uri": "https://localhost:8080/",
     "height": 34
    },
    "colab_type": "code",
    "id": "eJpo6rCo-a5K",
    "outputId": "88371987-1bc5-471e-8277-f9ac6804388a"
   },
   "outputs": [
    {
     "name": "stdout",
     "output_type": "stream",
     "text": [
      "93\n"
     ]
    }
   ],
   "source": [
    "largest_shape = 0\n",
    "for i in spoken_train:\n",
    "    shape = i.shape[0]\n",
    "    if shape > largest_shape:\n",
    "        largest_shape = shape\n",
    "\n",
    "print(largest_shape)"
   ]
  },
  {
   "cell_type": "code",
   "execution_count": 5,
   "metadata": {
    "colab": {
     "base_uri": "https://localhost:8080/",
     "height": 34
    },
    "colab_type": "code",
    "id": "Lk13xKrO-a5M",
    "outputId": "2c2d36d5-0263-421a-d0ac-84a28fe7b27c"
   },
   "outputs": [
    {
     "data": {
      "text/plain": [
       "(45000, 93, 13)"
      ]
     },
     "execution_count": 5,
     "metadata": {},
     "output_type": "execute_result"
    }
   ],
   "source": [
    "new_spoken_train = []\n",
    "for example in spoken_train:\n",
    "    difference = largest_shape-example.shape[0]\n",
    "    zero_pad = numpy.pad(example,((0,difference),(0,0)), mode='constant')\n",
    "    new_spoken_train.append(zero_pad)\n",
    "\n",
    "new_spoken_train = numpy.array(new_spoken_train)\n",
    "new_spoken_train.shape"
   ]
  },
  {
   "cell_type": "code",
   "execution_count": 6,
   "metadata": {
    "colab": {
     "base_uri": "https://localhost:8080/",
     "height": 34
    },
    "colab_type": "code",
    "id": "zMsLjNrW-a5O",
    "outputId": "b4fea139-3095-4bbb-905e-7ef7867f7fdc"
   },
   "outputs": [
    {
     "name": "stdout",
     "output_type": "stream",
     "text": [
      "1209\n"
     ]
    }
   ],
   "source": [
    "print(93*13)"
   ]
  },
  {
   "cell_type": "code",
   "execution_count": 7,
   "metadata": {
    "colab": {},
    "colab_type": "code",
    "id": "EDETI6iI-a5Q"
   },
   "outputs": [],
   "source": [
    "spoken_train = new_spoken_train\n",
    "spoken_train = numpy.reshape(spoken_train,(45000,1209))"
   ]
  },
  {
   "cell_type": "code",
   "execution_count": 8,
   "metadata": {
    "colab": {},
    "colab_type": "code",
    "id": "kca8m5jG-a5R"
   },
   "outputs": [],
   "source": [
    "from sklearn.preprocessing import StandardScaler\n",
    "\n",
    "scaler = StandardScaler()\n",
    "scaler.fit(spoken_train)\n",
    "spoken_train = scaler.transform(spoken_train)"
   ]
  },
  {
   "cell_type": "markdown",
   "metadata": {
    "colab_type": "text",
    "id": "ekdS357Q-a5T"
   },
   "source": [
    "# Normalize pixel values to be between 0 and 1\n",
    "- divide written_train by 255"
   ]
  },
  {
   "cell_type": "code",
   "execution_count": 9,
   "metadata": {
    "colab": {},
    "colab_type": "code",
    "id": "YnvL7y9f-a5U"
   },
   "outputs": [],
   "source": [
    "X_written = written_train/255\n",
    "X_spoken = spoken_train\n",
    "y = match_train"
   ]
  },
  {
   "cell_type": "markdown",
   "metadata": {
    "colab_type": "text",
    "id": "M2CRbSxh-a5V"
   },
   "source": [
    "## Label distribution"
   ]
  },
  {
   "cell_type": "code",
   "execution_count": 10,
   "metadata": {
    "colab": {
     "base_uri": "https://localhost:8080/",
     "height": 67
    },
    "colab_type": "code",
    "id": "d1A9zzvz-a5W",
    "outputId": "a8133e99-5b6b-433b-cb25-0a70a3956d8d",
    "scrolled": true
   },
   "outputs": [
    {
     "name": "stdout",
     "output_type": "stream",
     "text": [
      "number of total rows: 45000\n",
      "number of positives: 4539 (10.09%)\n",
      "number of negatives: 40461 (89.91%)\n"
     ]
    }
   ],
   "source": [
    "total = len(y)\n",
    "positives = sum(y)\n",
    "negatives = total - positives\n",
    "\n",
    "print(\"number of total rows: {}\".format(total))\n",
    "print(\"number of positives: {} ({}%)\".format(positives, round((positives/total)*100,2)))\n",
    "print(\"number of negatives: {} ({}%)\".format(negatives, round((negatives/total)*100,2)))"
   ]
  },
  {
   "cell_type": "code",
   "execution_count": 11,
   "metadata": {
    "colab": {},
    "colab_type": "code",
    "id": "ymFd_DD7-a5Y"
   },
   "outputs": [],
   "source": [
    "X_written = numpy.reshape(X_written,(45000,784))\n",
    "X_spoken = numpy.reshape(X_spoken,(45000,1209))"
   ]
  },
  {
   "cell_type": "code",
   "execution_count": 12,
   "metadata": {
    "colab": {
     "base_uri": "https://localhost:8080/",
     "height": 121
    },
    "colab_type": "code",
    "id": "GeAKUTdg-a5l",
    "outputId": "a674510d-cb2d-438c-d545-27b20dd26528"
   },
   "outputs": [
    {
     "name": "stderr",
     "output_type": "stream",
     "text": [
      "C:\\Users\\voice\\Anaconda3\\lib\\site-packages\\sklearn\\utils\\deprecation.py:144: FutureWarning: The sklearn.neighbors.base module is  deprecated in version 0.22 and will be removed in version 0.24. The corresponding classes / functions should instead be imported from sklearn.neighbors. Anything that cannot be imported from sklearn.neighbors is now part of the private API.\n",
      "  warnings.warn(message, FutureWarning)\n",
      "C:\\Users\\voice\\Anaconda3\\lib\\site-packages\\sklearn\\utils\\deprecation.py:144: FutureWarning: The sklearn.ensemble.bagging module is  deprecated in version 0.22 and will be removed in version 0.24. The corresponding classes / functions should instead be imported from sklearn.ensemble. Anything that cannot be imported from sklearn.ensemble is now part of the private API.\n",
      "  warnings.warn(message, FutureWarning)\n",
      "C:\\Users\\voice\\Anaconda3\\lib\\site-packages\\sklearn\\utils\\deprecation.py:144: FutureWarning: The sklearn.ensemble.base module is  deprecated in version 0.22 and will be removed in version 0.24. The corresponding classes / functions should instead be imported from sklearn.ensemble. Anything that cannot be imported from sklearn.ensemble is now part of the private API.\n",
      "  warnings.warn(message, FutureWarning)\n",
      "C:\\Users\\voice\\Anaconda3\\lib\\site-packages\\sklearn\\utils\\deprecation.py:144: FutureWarning: The sklearn.ensemble.forest module is  deprecated in version 0.22 and will be removed in version 0.24. The corresponding classes / functions should instead be imported from sklearn.ensemble. Anything that cannot be imported from sklearn.ensemble is now part of the private API.\n",
      "  warnings.warn(message, FutureWarning)\n",
      "Using TensorFlow backend.\n",
      "C:\\Users\\voice\\Anaconda3\\lib\\site-packages\\tensorboard\\compat\\tensorflow_stub\\dtypes.py:541: FutureWarning: Passing (type, 1) or '1type' as a synonym of type is deprecated; in a future version of numpy, it will be understood as (type, (1,)) / '(1,)type'.\n",
      "  _np_qint8 = np.dtype([(\"qint8\", np.int8, 1)])\n",
      "C:\\Users\\voice\\Anaconda3\\lib\\site-packages\\tensorboard\\compat\\tensorflow_stub\\dtypes.py:542: FutureWarning: Passing (type, 1) or '1type' as a synonym of type is deprecated; in a future version of numpy, it will be understood as (type, (1,)) / '(1,)type'.\n",
      "  _np_quint8 = np.dtype([(\"quint8\", np.uint8, 1)])\n",
      "C:\\Users\\voice\\Anaconda3\\lib\\site-packages\\tensorboard\\compat\\tensorflow_stub\\dtypes.py:543: FutureWarning: Passing (type, 1) or '1type' as a synonym of type is deprecated; in a future version of numpy, it will be understood as (type, (1,)) / '(1,)type'.\n",
      "  _np_qint16 = np.dtype([(\"qint16\", np.int16, 1)])\n",
      "C:\\Users\\voice\\Anaconda3\\lib\\site-packages\\tensorboard\\compat\\tensorflow_stub\\dtypes.py:544: FutureWarning: Passing (type, 1) or '1type' as a synonym of type is deprecated; in a future version of numpy, it will be understood as (type, (1,)) / '(1,)type'.\n",
      "  _np_quint16 = np.dtype([(\"quint16\", np.uint16, 1)])\n",
      "C:\\Users\\voice\\Anaconda3\\lib\\site-packages\\tensorboard\\compat\\tensorflow_stub\\dtypes.py:545: FutureWarning: Passing (type, 1) or '1type' as a synonym of type is deprecated; in a future version of numpy, it will be understood as (type, (1,)) / '(1,)type'.\n",
      "  _np_qint32 = np.dtype([(\"qint32\", np.int32, 1)])\n",
      "C:\\Users\\voice\\Anaconda3\\lib\\site-packages\\tensorboard\\compat\\tensorflow_stub\\dtypes.py:550: FutureWarning: Passing (type, 1) or '1type' as a synonym of type is deprecated; in a future version of numpy, it will be understood as (type, (1,)) / '(1,)type'.\n",
      "  np_resource = np.dtype([(\"resource\", np.ubyte, 1)])\n",
      "C:\\Users\\voice\\Anaconda3\\lib\\site-packages\\sklearn\\utils\\deprecation.py:144: FutureWarning: The sklearn.utils.testing module is  deprecated in version 0.22 and will be removed in version 0.24. The corresponding classes / functions should instead be imported from sklearn.utils. Anything that cannot be imported from sklearn.utils is now part of the private API.\n",
      "  warnings.warn(message, FutureWarning)\n",
      "C:\\Users\\voice\\Anaconda3\\lib\\site-packages\\sklearn\\utils\\deprecation.py:144: FutureWarning: The sklearn.metrics.classification module is  deprecated in version 0.22 and will be removed in version 0.24. The corresponding classes / functions should instead be imported from sklearn.metrics. Anything that cannot be imported from sklearn.metrics is now part of the private API.\n",
      "  warnings.warn(message, FutureWarning)\n",
      "C:\\Users\\voice\\Anaconda3\\lib\\site-packages\\sklearn\\utils\\deprecation.py:87: FutureWarning: Function safe_indexing is deprecated; safe_indexing is deprecated in version 0.22 and will be removed in version 0.24.\n",
      "  warnings.warn(msg, category=FutureWarning)\n",
      "C:\\Users\\voice\\Anaconda3\\lib\\site-packages\\sklearn\\utils\\deprecation.py:87: FutureWarning: Function safe_indexing is deprecated; safe_indexing is deprecated in version 0.22 and will be removed in version 0.24.\n",
      "  warnings.warn(msg, category=FutureWarning)\n"
     ]
    },
    {
     "name": "stdout",
     "output_type": "stream",
     "text": [
      "Resampled dataset shape Counter({False: 40461, True: 40461})\n"
     ]
    }
   ],
   "source": [
    "from collections import Counter\n",
    "from imblearn.over_sampling import RandomOverSampler\n",
    "oversampler = RandomOverSampler(random_state=42)\n",
    "X_written, y1 = oversampler.fit_resample(X_written, y)\n",
    "X_spoken, y2 = oversampler.fit_resample(X_spoken, y)\n",
    "print('Resampled dataset shape %s' % Counter(y2))"
   ]
  },
  {
   "cell_type": "code",
   "execution_count": 13,
   "metadata": {
    "colab": {
     "base_uri": "https://localhost:8080/",
     "height": 67
    },
    "colab_type": "code",
    "id": "zR6hz7ODAI6B",
    "outputId": "c00a3add-3980-404e-e8cc-ce071be3f6ae"
   },
   "outputs": [
    {
     "name": "stdout",
     "output_type": "stream",
     "text": [
      "(80922, 784)\n",
      "(80922, 1209)\n",
      "(80922,)\n"
     ]
    }
   ],
   "source": [
    "print(X_written.shape)\n",
    "print(X_spoken.shape)\n",
    "print(y2.shape)"
   ]
  },
  {
   "cell_type": "markdown",
   "metadata": {
    "colab_type": "text",
    "id": "EReMjbpt-a5n"
   },
   "source": [
    "# step 1: split data in training and validation:\n",
    "- written train split: 80% train, 20% validation\n",
    "<br>\n",
    "- spoken train split: 80% train, 20% validation"
   ]
  },
  {
   "cell_type": "markdown",
   "metadata": {
    "colab_type": "text",
    "id": "LY9TudTB-a5n"
   },
   "source": [
    "Since the data is imbalanced, we use stratify to make sure the distribution of labels is the same in our train and validation datasets"
   ]
  },
  {
   "cell_type": "code",
   "execution_count": 14,
   "metadata": {
    "colab": {},
    "colab_type": "code",
    "id": "P2ZqU6gM-a5o"
   },
   "outputs": [],
   "source": [
    "X_written_train, X_written_test, X_spoken_train, X_spoken_test, y_train, y_valid = train_test_split(X_written, X_spoken, y2, test_size=0.20, stratify = y2)"
   ]
  },
  {
   "cell_type": "code",
   "execution_count": 15,
   "metadata": {
    "colab": {
     "base_uri": "https://localhost:8080/",
     "height": 34
    },
    "colab_type": "code",
    "id": "LUCh1DC_9nQc",
    "outputId": "9c7d6606-ae3a-4f4d-bf05-b18e812d6130"
   },
   "outputs": [
    {
     "data": {
      "text/plain": [
       "(16185, 784)"
      ]
     },
     "execution_count": 15,
     "metadata": {},
     "output_type": "execute_result"
    }
   ],
   "source": [
    "X_written_test.shape"
   ]
  },
  {
   "cell_type": "code",
   "execution_count": 16,
   "metadata": {
    "colab": {},
    "colab_type": "code",
    "id": "RoC2lO2MAkfJ"
   },
   "outputs": [],
   "source": [
    "X_written_test = numpy.reshape(X_written_test,(X_written_test.shape[0],28,28))\n",
    "X_written_train = numpy.reshape(X_written_train,(X_written_train.shape[0],28,28))\n",
    "X_spoken_test = numpy.reshape(X_spoken_test,(X_spoken_test.shape[0],93,13))\n",
    "X_spoken_train = numpy.reshape(X_spoken_train,(X_spoken_train.shape[0],93,13))"
   ]
  },
  {
   "cell_type": "code",
   "execution_count": 26,
   "metadata": {
    "colab": {
     "base_uri": "https://localhost:8080/",
     "height": 655
    },
    "colab_type": "code",
    "id": "wXyLGF8wRSiK",
    "outputId": "46e7aa15-e089-4e33-d714-bf2bbcc4339f"
   },
   "outputs": [
    {
     "name": "stdout",
     "output_type": "stream",
     "text": [
      "Model: \"model_3\"\n",
      "__________________________________________________________________________________________________\n",
      "Layer (type)                    Output Shape         Param #     Connected to                     \n",
      "==================================================================================================\n",
      "input_5 (InputLayer)            (None, 28, 28)       0                                            \n",
      "__________________________________________________________________________________________________\n",
      "input_6 (InputLayer)            (None, 93, 13)       0                                            \n",
      "__________________________________________________________________________________________________\n",
      "conv1d_9 (Conv1D)               (None, 27, 64)       3648        input_5[0][0]                    \n",
      "__________________________________________________________________________________________________\n",
      "conv1d_11 (Conv1D)              (None, 92, 64)       1728        input_6[0][0]                    \n",
      "__________________________________________________________________________________________________\n",
      "max_pooling1d_5 (MaxPooling1D)  (None, 13, 64)       0           conv1d_9[0][0]                   \n",
      "__________________________________________________________________________________________________\n",
      "max_pooling1d_6 (MaxPooling1D)  (None, 46, 64)       0           conv1d_11[0][0]                  \n",
      "__________________________________________________________________________________________________\n",
      "conv1d_10 (Conv1D)              (None, 12, 32)       4128        max_pooling1d_5[0][0]            \n",
      "__________________________________________________________________________________________________\n",
      "conv1d_12 (Conv1D)              (None, 45, 32)       4128        max_pooling1d_6[0][0]            \n",
      "__________________________________________________________________________________________________\n",
      "flatten_5 (Flatten)             (None, 384)          0           conv1d_10[0][0]                  \n",
      "__________________________________________________________________________________________________\n",
      "flatten_6 (Flatten)             (None, 1440)         0           conv1d_12[0][0]                  \n",
      "__________________________________________________________________________________________________\n",
      "concatenate_3 (Concatenate)     (None, 1824)         0           flatten_5[0][0]                  \n",
      "                                                                 flatten_6[0][0]                  \n",
      "__________________________________________________________________________________________________\n",
      "dense_7 (Dense)                 (None, 100)          182500      concatenate_3[0][0]              \n",
      "__________________________________________________________________________________________________\n",
      "dense_8 (Dense)                 (None, 100)          10100       dense_7[0][0]                    \n",
      "__________________________________________________________________________________________________\n",
      "dense_9 (Dense)                 (None, 1)            101         dense_8[0][0]                    \n",
      "==================================================================================================\n",
      "Total params: 206,333\n",
      "Trainable params: 206,333\n",
      "Non-trainable params: 0\n",
      "__________________________________________________________________________________________________\n",
      "None\n"
     ]
    }
   ],
   "source": [
    "from keras.models import Sequential\n",
    "from keras.layers import Dense, Conv1D, Flatten, MaxPooling1D, Dropout\n",
    "#create model\n",
    "import keras\n",
    "from keras.optimizers import Adam\n",
    "\n",
    "input1 = keras.layers.Input(shape=(28,28))\n",
    "x1 = keras.layers.Conv1D(64, 2, activation='relu')(input1)\n",
    "x1 = keras.layers.MaxPooling1D(2)(x1)\n",
    "x2 = keras.layers.Conv1D(32, 2, activation='relu')(x1)\n",
    "#x2 = keras.layers.MaxPooling1D(2)(x2)\n",
    "x3 = keras.layers.Flatten()(x2)\n",
    "input2 = keras.layers.Input(shape=(93,13))\n",
    "y1 = keras.layers.Conv1D(64, 2, activation='relu')(input2)\n",
    "y1 = keras.layers.MaxPooling1D(2)(y1)\n",
    "y2 = keras.layers.Conv1D(32, 2, activation='relu')(y1)\n",
    "#y2 = keras.layers.MaxPooling1D(2)(y2)\n",
    "y3 = keras.layers.Flatten()(y2)\n",
    "# Equivalent to subtracted = keras.layers.subtract([x1, x2])\n",
    "concatenate = keras.layers.Concatenate()([x3, y3])\n",
    "Dense_1 = Dense(100, activation='relu')(concatenate)\n",
    "Dense_2 = Dense(100, activation='relu')(Dense_1)\n",
    "out = keras.layers.Dense(1, activation = \"sigmoid\")(Dense_2)\n",
    "model = keras.models.Model(inputs=[input1, input2], outputs=out)\n",
    "model.compile(loss='binary_crossentropy',\n",
    "              optimizer=Adam(lr=0.001), metrics=['accuracy'])\n",
    "print(model.summary())"
   ]
  },
  {
   "cell_type": "code",
   "execution_count": 27,
   "metadata": {
    "colab": {},
    "colab_type": "code",
    "id": "atkojHJ5RU7z"
   },
   "outputs": [
    {
     "name": "stdout",
     "output_type": "stream",
     "text": [
      "Train on 58263 samples, validate on 6474 samples\n",
      "Epoch 1/100\n",
      "58263/58263 [==============================] - 25s 426us/step - loss: 0.3079 - acc: 0.8518 - val_loss: 0.1330 - val_acc: 0.95213095 - acc: 0.850 - ETA: 0s - loss: 0.3091 - acc: 0.8\n",
      "Epoch 2/100\n",
      "58263/58263 [==============================] - 23s 398us/step - loss: 0.0807 - acc: 0.9719 - val_loss: 0.0717 - val_acc: 0.9741\n",
      "Epoch 3/100\n",
      "58263/58263 [==============================] - 29s 501us/step - loss: 0.0422 - acc: 0.9865 - val_loss: 0.0507 - val_acc: 0.9852\n",
      "Epoch 4/100\n",
      "58263/58263 [==============================] - 23s 401us/step - loss: 0.0325 - acc: 0.9897 - val_loss: 0.0482 - val_acc: 0.9827\n",
      "Epoch 5/100\n",
      "58263/58263 [==============================] - 23s 390us/step - loss: 0.0229 - acc: 0.9924 - val_loss: 0.0394 - val_acc: 0.9893\n",
      "Epoch 6/100\n",
      "58263/58263 [==============================] - 24s 409us/step - loss: 0.0182 - acc: 0.9945 - val_loss: 0.0285 - val_acc: 0.9921- ETA: 0s - loss: 0.0184 \n",
      "Epoch 7/100\n",
      "58263/58263 [==============================] - 24s 404us/step - loss: 0.0176 - acc: 0.9946 - val_loss: 0.0294 - val_acc: 0.9906\n",
      "Epoch 8/100\n",
      "58263/58263 [==============================] - 24s 417us/step - loss: 0.0144 - acc: 0.9955 - val_loss: 0.0374 - val_acc: 0.9917\n",
      "Epoch 9/100\n",
      "58263/58263 [==============================] - 23s 392us/step - loss: 0.0145 - acc: 0.9955 - val_loss: 0.0298 - val_acc: 0.9920\n",
      "Epoch 10/100\n",
      "58263/58263 [==============================] - 23s 402us/step - loss: 0.0103 - acc: 0.9968 - val_loss: 0.0531 - val_acc: 0.9870\n",
      "Epoch 11/100\n",
      "58263/58263 [==============================] - 23s 390us/step - loss: 0.0114 - acc: 0.9965 - val_loss: 0.0401 - val_acc: 0.9906\n",
      "Epoch 12/100\n",
      "58263/58263 [==============================] - 24s 409us/step - loss: 0.0099 - acc: 0.9970 - val_loss: 0.0471 - val_acc: 0.9892\n",
      "Epoch 13/100\n",
      "58263/58263 [==============================] - 26s 440us/step - loss: 0.0093 - acc: 0.9972 - val_loss: 0.0480 - val_acc: 0.9880\n",
      "Epoch 14/100\n",
      "58263/58263 [==============================] - 23s 397us/step - loss: 0.0081 - acc: 0.9976 - val_loss: 0.0426 - val_acc: 0.9893\n",
      "Epoch 15/100\n",
      "58263/58263 [==============================] - 25s 429us/step - loss: 0.0083 - acc: 0.9975 - val_loss: 0.0392 - val_acc: 0.9906A:  - ETA: 0s - loss: 0.0083 - acc: 0.9\n",
      "Epoch 16/100\n",
      "58263/58263 [==============================] - 26s 441us/step - loss: 0.0090 - acc: 0.9974 - val_loss: 0.0236 - val_acc: 0.9944\n",
      "Epoch 17/100\n",
      "58263/58263 [==============================] - 23s 387us/step - loss: 0.0080 - acc: 0.9978 - val_loss: 0.0380 - val_acc: 0.9926\n",
      "Epoch 18/100\n",
      "58263/58263 [==============================] - 35s 604us/step - loss: 0.0070 - acc: 0.9979 - val_loss: 0.0358 - val_acc: 0.9914\n",
      "Epoch 19/100\n",
      "58263/58263 [==============================] - 23s 392us/step - loss: 0.0064 - acc: 0.9982 - val_loss: 0.0214 - val_acc: 0.9955\n",
      "Epoch 20/100\n",
      "58263/58263 [==============================] - 22s 385us/step - loss: 0.0072 - acc: 0.9981 - val_loss: 0.0534 - val_acc: 0.9875\n",
      "Epoch 21/100\n",
      "58263/58263 [==============================] - 22s 383us/step - loss: 0.0089 - acc: 0.9976 - val_loss: 0.0208 - val_acc: 0.9944\n",
      "Epoch 22/100\n",
      "58263/58263 [==============================] - 29s 495us/step - loss: 0.0034 - acc: 0.9991 - val_loss: 0.0501 - val_acc: 0.9912\n",
      "Epoch 23/100\n",
      "58263/58263 [==============================] - 22s 382us/step - loss: 0.0080 - acc: 0.9977 - val_loss: 0.0308 - val_acc: 0.9932\n",
      "Epoch 24/100\n",
      "58263/58263 [==============================] - 25s 429us/step - loss: 0.0062 - acc: 0.9983 - val_loss: 0.0318 - val_acc: 0.9926\n",
      "Epoch 25/100\n",
      "58263/58263 [==============================] - 25s 433us/step - loss: 0.0049 - acc: 0.9987 - val_loss: 0.0436 - val_acc: 0.9926\n",
      "Epoch 26/100\n",
      "58263/58263 [==============================] - 23s 387us/step - loss: 0.0050 - acc: 0.9987 - val_loss: 0.0309 - val_acc: 0.9940\n",
      "Epoch 27/100\n",
      "58263/58263 [==============================] - 32s 543us/step - loss: 0.0065 - acc: 0.9985 - val_loss: 0.0319 - val_acc: 0.9923\n",
      "Epoch 28/100\n",
      "58263/58263 [==============================] - 28s 486us/step - loss: 0.0063 - acc: 0.9988 - val_loss: 0.0359 - val_acc: 0.9934\n",
      "Epoch 29/100\n",
      "58263/58263 [==============================] - 24s 418us/step - loss: 0.0087 - acc: 0.9980 - val_loss: 0.0473 - val_acc: 0.9909\n",
      "Epoch 30/100\n",
      "58263/58263 [==============================] - 25s 426us/step - loss: 0.0065 - acc: 0.9985 - val_loss: 0.0111 - val_acc: 0.9974\n",
      "Epoch 31/100\n",
      "58263/58263 [==============================] - 23s 393us/step - loss: 0.0042 - acc: 0.9990 - val_loss: 0.0310 - val_acc: 0.9926\n",
      "Epoch 32/100\n",
      "58263/58263 [==============================] - 25s 424us/step - loss: 0.0066 - acc: 0.9982 - val_loss: 0.0311 - val_acc: 0.9952\n",
      "Epoch 33/100\n",
      "58263/58263 [==============================] - 23s 390us/step - loss: 0.0037 - acc: 0.9989 - val_loss: 0.0335 - val_acc: 0.99350 - ETA: 1s - loss: 0\n",
      "Epoch 34/100\n",
      "58263/58263 [==============================] - 22s 382us/step - loss: 0.0049 - acc: 0.9987 - val_loss: 0.0257 - val_acc: 0.9946\n",
      "Epoch 35/100\n",
      "58263/58263 [==============================] - 26s 440us/step - loss: 0.0048 - acc: 0.9987 - val_loss: 0.0439 - val_acc: 0.9926\n",
      "Epoch 36/100\n",
      "58263/58263 [==============================] - 27s 455us/step - loss: 0.0014 - acc: 0.9997 - val_loss: 0.0378 - val_acc: 0.9934\n",
      "Epoch 37/100\n",
      "58263/58263 [==============================] - 25s 435us/step - loss: 0.0087 - acc: 0.9978 - val_loss: 0.0291 - val_acc: 0.9957\n",
      "Epoch 38/100\n",
      "58263/58263 [==============================] - 23s 403us/step - loss: 0.0041 - acc: 0.9992 - val_loss: 0.0428 - val_acc: 0.9921\n",
      "Epoch 39/100\n",
      "58263/58263 [==============================] - 27s 468us/step - loss: 0.0048 - acc: 0.9989 - val_loss: 0.0366 - val_acc: 0.9918\n",
      "Epoch 40/100\n",
      "58263/58263 [==============================] - 27s 471us/step - loss: 0.0031 - acc: 0.9991 - val_loss: 0.0896 - val_acc: 0.9863\n",
      "Epoch 41/100\n",
      "58263/58263 [==============================] - 26s 444us/step - loss: 0.0042 - acc: 0.9991 - val_loss: 0.0215 - val_acc: 0.9960\n",
      "Epoch 42/100\n",
      "58263/58263 [==============================] - 23s 396us/step - loss: 5.6724e-04 - acc: 1.0000 - val_loss: 0.0228 - val_acc: 0.9964\n",
      "Epoch 43/100\n",
      "58263/58263 [==============================] - 23s 393us/step - loss: 5.5713e-04 - acc: 1.0000 - val_loss: 0.0232 - val_acc: 0.9966\n",
      "Epoch 44/100\n",
      "58263/58263 [==============================] - 23s 395us/step - loss: 5.5502e-04 - acc: 1.0000 - val_loss: 0.0239 - val_acc: 0.9964\n",
      "Epoch 45/100\n",
      "58263/58263 [==============================] - 29s 501us/step - loss: 5.5408e-04 - acc: 1.0000 - val_loss: 0.0244 - val_acc: 0.9966\n",
      "Epoch 46/100\n",
      "58263/58263 [==============================] - 23s 401us/step - loss: 5.5367e-04 - acc: 1.0000 - val_loss: 0.0248 - val_acc: 0.9963- loss: 7.0241e-04 - acc - ETA: 4 - \n",
      "Epoch 47/100\n",
      "58263/58263 [==============================] - 29s 498us/step - loss: 5.5350e-04 - acc: 1.0000 - val_loss: 0.0253 - val_acc: 0.9963162e-04 -\n",
      "Epoch 48/100\n",
      "58263/58263 [==============================] - 24s 412us/step - loss: 5.5344e-04 - acc: 1.0000 - val_loss: 0.0258 - val_acc: 0.9963\n",
      "Epoch 49/100\n",
      "58263/58263 [==============================] - 26s 449us/step - loss: 5.5341e-04 - acc: 1.0000 - val_loss: 0.0267 - val_acc: 0.9963\n",
      "Epoch 50/100\n",
      "58263/58263 [==============================] - 26s 440us/step - loss: 5.5340e-04 - acc: 1.0000 - val_loss: 0.0276 - val_acc: 0.9963\n",
      "Epoch 51/100\n",
      "58263/58263 [==============================] - 26s 444us/step - loss: 5.5340e-04 - acc: 1.0000 - val_loss: 0.0277 - val_acc: 0.9963\n",
      "Epoch 52/100\n",
      "58263/58263 [==============================] - 25s 438us/step - loss: 5.5340e-04 - acc: 1.0000 - val_loss: 0.0285 - val_acc: 0.9963\n",
      "Epoch 53/100\n",
      "58263/58263 [==============================] - 26s 449us/step - loss: 5.5340e-04 - acc: 1.0000 - val_loss: 0.0289 - val_acc: 0.9963\n",
      "Epoch 54/100\n",
      "58263/58263 [==============================] - 27s 455us/step - loss: 5.5340e-04 - acc: 1.0000 - val_loss: 0.0296 - val_acc: 0.9963\n",
      "Epoch 55/100\n",
      "58263/58263 [==============================] - 26s 447us/step - loss: 5.5340e-04 - acc: 1.0000 - val_loss: 0.0292 - val_acc: 0.9963\n",
      "Epoch 56/100\n"
     ]
    },
    {
     "name": "stdout",
     "output_type": "stream",
     "text": [
      "58263/58263 [==============================] - 25s 437us/step - loss: 5.5340e-04 - acc: 1.0000 - val_loss: 0.0291 - val_acc: 0.9963\n",
      "Epoch 57/100\n",
      "58263/58263 [==============================] - 26s 443us/step - loss: 5.5340e-04 - acc: 1.0000 - val_loss: 0.0294 - val_acc: 0.9963: 4s -  - ETA: 2s - loss: 6.2504e-04 - acc: - ETA: 2s - loss - ETA: 1s - loss: 5.7674\n",
      "Epoch 58/100\n",
      "58263/58263 [==============================] - 25s 425us/step - loss: 5.5340e-04 - acc: 1.0000 - val_loss: 0.0293 - val_acc: 0.9964\n",
      "Epoch 59/100\n",
      "58263/58263 [==============================] - 14s 242us/step - loss: 5.5340e-04 - acc: 1.0000 - val_loss: 0.0296 - val_acc: 0.9964\n",
      "Epoch 60/100\n",
      "58263/58263 [==============================] - 9s 160us/step - loss: 5.5340e-04 - acc: 1.0000 - val_loss: 0.0295 - val_acc: 0.9964\n",
      "Epoch 61/100\n",
      "58263/58263 [==============================] - 9s 161us/step - loss: 5.5340e-04 - acc: 1.0000 - val_loss: 0.0293 - val_acc: 0.9964\n",
      "Epoch 62/100\n",
      "58263/58263 [==============================] - 9s 159us/step - loss: 5.5340e-04 - acc: 1.0000 - val_loss: 0.0297 - val_acc: 0.9963\n",
      "Epoch 63/100\n",
      "58263/58263 [==============================] - 9s 161us/step - loss: 5.5340e-04 - acc: 1.0000 - val_loss: 0.0295 - val_acc: 0.9964\n",
      "Epoch 64/100\n",
      "58263/58263 [==============================] - 9s 159us/step - loss: 5.5340e-04 - acc: 1.0000 - val_loss: 0.0293 - val_acc: 0.9964\n",
      "Epoch 65/100\n",
      "58263/58263 [==============================] - 9s 161us/step - loss: 5.5340e-04 - acc: 1.0000 - val_loss: 0.0291 - val_acc: 0.9964\n",
      "Epoch 66/100\n",
      "58263/58263 [==============================] - 10s 164us/step - loss: 5.5340e-04 - acc: 1.0000 - val_loss: 0.0294 - val_acc: 0.9964\n",
      "Epoch 67/100\n",
      "58263/58263 [==============================] - 9s 157us/step - loss: 5.5340e-04 - acc: 1.0000 - val_loss: 0.0294 - val_acc: 0.9964\n",
      "Epoch 68/100\n",
      "58263/58263 [==============================] - 9s 156us/step - loss: 5.5340e-04 - acc: 1.0000 - val_loss: 0.0294 - val_acc: 0.9964\n",
      "Epoch 69/100\n",
      "58263/58263 [==============================] - 9s 156us/step - loss: 5.5340e-04 - acc: 1.0000 - val_loss: 0.0293 - val_acc: 0.9964\n",
      "Epoch 70/100\n",
      "58263/58263 [==============================] - 9s 157us/step - loss: 5.5340e-04 - acc: 1.0000 - val_loss: 0.0293 - val_acc: 0.9964\n",
      "Epoch 71/100\n",
      "58263/58263 [==============================] - 9s 156us/step - loss: 5.5340e-04 - acc: 1.0000 - val_loss: 0.0293 - val_acc: 0.9964\n",
      "Epoch 72/100\n",
      "58263/58263 [==============================] - 9s 156us/step - loss: 5.5340e-04 - acc: 1.0000 - val_loss: 0.0293 - val_acc: 0.9964\n",
      "Epoch 73/100\n",
      "58263/58263 [==============================] - 9s 158us/step - loss: 5.5340e-04 - acc: 1.0000 - val_loss: 0.0294 - val_acc: 0.9964\n",
      "Epoch 74/100\n",
      "58263/58263 [==============================] - 9s 157us/step - loss: 5.5340e-04 - acc: 1.0000 - val_loss: 0.0292 - val_acc: 0.9964\n",
      "Epoch 75/100\n",
      "58263/58263 [==============================] - 9s 157us/step - loss: 5.5340e-04 - acc: 1.0000 - val_loss: 0.0292 - val_acc: 0.9964\n",
      "Epoch 76/100\n",
      "58263/58263 [==============================] - 9s 158us/step - loss: 5.5340e-04 - acc: 1.0000 - val_loss: 0.0292 - val_acc: 0.9964\n",
      "Epoch 77/100\n",
      "58263/58263 [==============================] - 9s 162us/step - loss: 5.5340e-04 - acc: 1.0000 - val_loss: 0.0292 - val_acc: 0.9964\n",
      "Epoch 78/100\n",
      "58263/58263 [==============================] - 9s 160us/step - loss: 5.5340e-04 - acc: 1.0000 - val_loss: 0.0292 - val_acc: 0.9964\n",
      "Epoch 79/100\n",
      "58263/58263 [==============================] - 10s 167us/step - loss: 5.5340e-04 - acc: 1.0000 - val_loss: 0.0292 - val_acc: 0.9964\n",
      "Epoch 80/100\n",
      "58263/58263 [==============================] - 9s 163us/step - loss: 5.5340e-04 - acc: 1.0000 - val_loss: 0.0292 - val_acc: 0.9964\n",
      "Epoch 81/100\n",
      "58263/58263 [==============================] - 9s 162us/step - loss: 5.5340e-04 - acc: 1.0000 - val_loss: 0.0292 - val_acc: 0.9964\n",
      "Epoch 82/100\n",
      "58263/58263 [==============================] - 9s 159us/step - loss: 5.5340e-04 - acc: 1.0000 - val_loss: 0.0292 - val_acc: 0.9964\n",
      "Epoch 83/100\n",
      "58263/58263 [==============================] - 9s 157us/step - loss: 5.5340e-04 - acc: 1.0000 - val_loss: 0.0292 - val_acc: 0.9964\n",
      "Epoch 84/100\n",
      "58263/58263 [==============================] - 9s 160us/step - loss: 5.5340e-04 - acc: 1.0000 - val_loss: 0.0292 - val_acc: 0.9964\n",
      "Epoch 85/100\n",
      "58263/58263 [==============================] - 10s 167us/step - loss: 5.5340e-04 - acc: 1.0000 - val_loss: 0.0292 - val_acc: 0.9964\n",
      "Epoch 86/100\n",
      "58263/58263 [==============================] - 10s 176us/step - loss: 5.5340e-04 - acc: 1.0000 - val_loss: 0.0292 - val_acc: 0.9964\n",
      "Epoch 87/100\n",
      "58263/58263 [==============================] - 11s 181us/step - loss: 5.5340e-04 - acc: 1.0000 - val_loss: 0.0292 - val_acc: 0.9964\n",
      "Epoch 88/100\n",
      "58263/58263 [==============================] - 10s 171us/step - loss: 5.5340e-04 - acc: 1.0000 - val_loss: 0.0292 - val_acc: 0.9964\n",
      "Epoch 89/100\n",
      "58263/58263 [==============================] - 9s 162us/step - loss: 5.5340e-04 - acc: 1.0000 - val_loss: 0.0292 - val_acc: 0.9964\n",
      "Epoch 90/100\n",
      "58263/58263 [==============================] - 9s 163us/step - loss: 5.5340e-04 - acc: 1.0000 - val_loss: 0.0292 - val_acc: 0.9964\n",
      "Epoch 91/100\n",
      "58263/58263 [==============================] - 10s 171us/step - loss: 5.5340e-04 - acc: 1.0000 - val_loss: 0.0292 - val_acc: 0.9964\n",
      "Epoch 92/100\n",
      "58263/58263 [==============================] - 10s 165us/step - loss: 5.5340e-04 - acc: 1.0000 - val_loss: 0.0292 - val_acc: 0.9964\n",
      "Epoch 93/100\n",
      "58263/58263 [==============================] - 10s 173us/step - loss: 5.5340e-04 - acc: 1.0000 - val_loss: 0.0292 - val_acc: 0.9964\n",
      "Epoch 94/100\n",
      "58263/58263 [==============================] - 10s 166us/step - loss: 5.5340e-04 - acc: 1.0000 - val_loss: 0.0292 - val_acc: 0.9964\n",
      "Epoch 95/100\n",
      "58263/58263 [==============================] - 9s 162us/step - loss: 5.5340e-04 - acc: 1.0000 - val_loss: 0.0292 - val_acc: 0.9964\n",
      "Epoch 96/100\n",
      "58263/58263 [==============================] - 9s 161us/step - loss: 5.5340e-04 - acc: 1.0000 - val_loss: 0.0292 - val_acc: 0.9964\n",
      "Epoch 97/100\n",
      "58263/58263 [==============================] - 10s 167us/step - loss: 5.5340e-04 - acc: 1.0000 - val_loss: 0.0292 - val_acc: 0.9964\n",
      "Epoch 98/100\n",
      "58263/58263 [==============================] - 10s 175us/step - loss: 5.5340e-04 - acc: 1.0000 - val_loss: 0.0292 - val_acc: 0.9964\n",
      "Epoch 99/100\n",
      "58263/58263 [==============================] - 10s 169us/step - loss: 5.5340e-04 - acc: 1.0000 - val_loss: 0.0292 - val_acc: 0.9964\n",
      "Epoch 100/100\n",
      "58263/58263 [==============================] - 10s 165us/step - loss: 5.5340e-04 - acc: 1.0000 - val_loss: 0.0292 - val_acc: 0.9964\n"
     ]
    }
   ],
   "source": [
    "history = model.fit([X_written_train, X_spoken_train], y_train,\n",
    "                    epochs=100, validation_split=0.1, batch_size=32)"
   ]
  },
  {
   "cell_type": "markdown",
   "metadata": {},
   "source": [
    "# plot loss and accuracy"
   ]
  },
  {
   "cell_type": "code",
   "execution_count": 28,
   "metadata": {
    "colab": {},
    "colab_type": "code",
    "id": "DS0Iyay3-a7N"
   },
   "outputs": [
    {
     "data": {
      "image/png": "[encoded data removed]",
      "text/plain": [
       "<Figure size 432x288 with 1 Axes>"
      ]
     },
     "metadata": {
      "needs_background": "light"
     },
     "output_type": "display_data"
    }
   ],
   "source": [
    "import matplotlib.pyplot as plt\n",
    "plt.plot(history.history['loss'])\n",
    "plt.plot(history.history['val_loss'])\n",
    "plt.title('model loss')\n",
    "plt.ylabel('loss')\n",
    "plt.xlabel('epoch')\n",
    "plt.legend(['train', 'test'], loc='upper left')\n",
    "plt.show()"
   ]
  },
  {
   "cell_type": "code",
   "execution_count": 29,
   "metadata": {},
   "outputs": [
    {
     "data": {
      "image/png": "[encoded data removed]",
      "text/plain": [
       "<Figure size 432x288 with 1 Axes>"
      ]
     },
     "metadata": {
      "needs_background": "light"
     },
     "output_type": "display_data"
    }
   ],
   "source": [
    "plt.plot(history.history['acc'])\n",
    "plt.plot(history.history['val_acc'])\n",
    "plt.title('model accuracy')\n",
    "plt.ylabel('acc')\n",
    "plt.xlabel('epoch')\n",
    "plt.legend(['train', 'test'], loc='upper left')\n",
    "plt.show()"
   ]
  },
  {
   "cell_type": "markdown",
   "metadata": {},
   "source": [
    "# classification_report, confusion_matrix, accuracy_score"
   ]
  },
  {
   "cell_type": "code",
   "execution_count": 30,
   "metadata": {},
   "outputs": [],
   "source": [
    "from sklearn.metrics import classification_report, confusion_matrix, accuracy_score\n",
    "conf_matrix = confusion_matrix(y_valid, numpy.round(model.predict([X_written_test, X_spoken_test])))\n",
    "class_report = classification_report(y_valid, numpy.round(model.predict([X_written_test, X_spoken_test])))\n",
    "acc_report = accuracy_score(y_valid, numpy.round(model.predict([X_written_test, X_spoken_test])))"
   ]
  },
  {
   "cell_type": "code",
   "execution_count": 31,
   "metadata": {},
   "outputs": [
    {
     "name": "stdout",
     "output_type": "stream",
     "text": [
      "              precision    recall  f1-score   support\n",
      "\n",
      "       False       1.00      1.00      1.00      8092\n",
      "        True       1.00      1.00      1.00      8093\n",
      "\n",
      "    accuracy                           1.00     16185\n",
      "   macro avg       1.00      1.00      1.00     16185\n",
      "weighted avg       1.00      1.00      1.00     16185\n",
      "\n",
      "[[8052   40]\n",
      " [   4 8089]]\n",
      "\n",
      "0.9972814334260117\n"
     ]
    }
   ],
   "source": [
    "print(class_report)\n",
    "print(conf_matrix)\n",
    "print()\n",
    "print(acc_report)"
   ]
  },
  {
   "cell_type": "code",
   "execution_count": 34,
   "metadata": {},
   "outputs": [],
   "source": [
    "train_acc = accuracy_score(y_train, numpy.round(model.predict([X_written_train, X_spoken_train])))\n",
    "test_acc = acc_report"
   ]
  },
  {
   "cell_type": "code",
   "execution_count": 35,
   "metadata": {},
   "outputs": [
    {
     "name": "stdout",
     "output_type": "stream",
     "text": [
      "train accuracy: 0.9996138220801087\n",
      "test accuracy: 0.9972814334260117\n"
     ]
    }
   ],
   "source": [
    "print(\"train accuracy: {}\".format(train_acc))\n",
    "print(\"test accuracy: {}\".format(test_acc))"
   ]
  }
 ],
 "metadata": {
  "colab": {
   "machine_shape": "hm",
   "name": "ml_assignment_Final_CNN.ipynb",
   "provenance": [],
   "toc_visible": true
  },
  "kernelspec": {
   "display_name": "Python 3",
   "language": "python",
   "name": "python3"
  },
  "language_info": {
   "codemirror_mode": {
    "name": "ipython",
    "version": 3
   },
   "file_extension": ".py",
   "mimetype": "text/x-python",
   "name": "python",
   "nbconvert_exporter": "python",
   "pygments_lexer": "ipython3",
   "version": "3.7.6"
  }
 },
 "nbformat": 4,
 "nbformat_minor": 1
}
